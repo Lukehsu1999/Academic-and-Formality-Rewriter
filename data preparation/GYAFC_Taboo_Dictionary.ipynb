{
  "nbformat": 4,
  "nbformat_minor": 0,
  "metadata": {
    "colab": {
      "name": "GYAFC Taboo Dictionary.ipynb",
      "provenance": [],
      "mount_file_id": "1nJfPZJ17nyl9Ow0zmiZdNwOEhCVRXBGr",
      "authorship_tag": "ABX9TyPR3075Cn/473nzEQF+8D8h",
      "include_colab_link": true
    },
    "kernelspec": {
      "name": "python3",
      "display_name": "Python 3"
    }
  },
  "cells": [
    {
      "cell_type": "markdown",
      "metadata": {
        "id": "view-in-github",
        "colab_type": "text"
      },
      "source": [
        "<a href=\"https://colab.research.google.com/github/Lukehsu1999/Academic-and-Formality-Rewriter/blob/main/data%20preparation/GYAFC_Taboo_Dictionary.ipynb\" target=\"_parent\"><img src=\"https://colab.research.google.com/assets/colab-badge.svg\" alt=\"Open In Colab\"/></a>"
      ]
    },
    {
      "cell_type": "markdown",
      "metadata": {
        "id": "SZ2mUEDf9_jk"
      },
      "source": [
        "Libraries needed"
      ]
    },
    {
      "cell_type": "code",
      "metadata": {
        "id": "aq9Rohp4-Aft"
      },
      "source": [
        "import string"
      ],
      "execution_count": null,
      "outputs": []
    },
    {
      "cell_type": "markdown",
      "metadata": {
        "id": "nKwo_rfbEJo2"
      },
      "source": [
        "Taboo Words Dictionaries"
      ]
    },
    {
      "cell_type": "code",
      "metadata": {
        "id": "4gQF_CCGEG0A"
      },
      "source": [
        "#Basic Taboo Dicts\n",
        "sentence_start_dict={\"DictName\":\"sentence_start\", 'Also':0, 'So':0, 'And':0, 'Besides':0}\n",
        "phrase_dict={\"DictName\":\"phrases\", 'a bit':0, 'a lot of':0, 'a couple of':0, 'kind of':0, 'sort of':0, \"of course\":0, 'a long time':0, 'a while':0}\n",
        "vague_word_dict={\"DictName\":\"vague_word\", 'stuff':0, 'Stuff':0, 'thing':0, 'Thing':0, 'anything':0, 'Anything':0, 'nothing':0,'Nothing':0, 'something':0, 'Something':0, 'everything':0, 'Everything':0}\n",
        "informal_contraction_dict={\"DictName\":\"contraction\", \"I'd\":0, \"I'll\":0, \"I've\":0, \"I'm\":0, \n",
        "              \"you're\":0, \"You're\":0, \"you'll\":0, \"You'll\":0,\n",
        "              \"she's\":0, \"She's\":0, \"he's\":0, \"He's\":0,\n",
        "              \"she'd\":0, \"he'd\":0, \"she'll\":0, \"he'll\":0,\n",
        "              \"She'd\":0, \"He'd\":0, \"She'll\":0, \"He'll\":0, \n",
        "              \"they'll\":0, \"they're\":0, \"they've\":0, \n",
        "              \"They'll\":0, \"They're\":0, \"They've\":0, \n",
        "              \"we'd\":0, \"we'll\":0, \"we're\":0, \"we've\":0,\n",
        "              \"We'd\":0, \"We'll\":0, \"We're\":0, \"We've\":0,\n",
        "              \"it'll\":0, \"it's\":0, \"that's\":0, \"there's\":0, \"where's\":0, \"let's\":0,\n",
        "              \"It'll\":0, \"It's\":0, \"That's\":0, \"There's\":0, \"Where's\":0, \"Let's\":0,\n",
        "              \"can't\":0, \"couldn't\":0, \"didn't\":0, \"doesn't\":0, \"don't\":0,\n",
        "              \"Can't\":0, \"Couldn't\":0, \"Didn't\":0, \"Doesn't\":0, \"Don't\":0,\n",
        "              \"hadn't\":0, \"hasn't\":0, \"isn't\":0, \"shouldn't\":0, \"wasn't\":0,\n",
        "              \"Hadn't\":0, \"Hasn't\":0, \"Isn't\":0, \"Shouldn't\":0, \"Wasn't\":0, \n",
        "              \"won't\":0, \"wouldn't\":0, \"could've\":0, \"might've\":0, \"must've\":0,\n",
        "              \"Won't\":0, \"Wouldn't\":0, \"Could've\":0, \"Might've\":0, \"Must've\":0,\n",
        "              \"should've\":0, \"would've\":0, \"who's\":0,\n",
        "              \"Should've\":0, \"Would've\":0, \"Who's\":0}\n",
        "\n",
        "informal_others_dict={\"DictName\":\"others\", \"till\":0, \"Till\":0}\n",
        "informal_frequency_dict={\"DictName\":\"frequency\", \"always\":0, \"Always\":0, \"never\":0, \"Never\":0}\n",
        "#too: I am a student, too. vs. he is too awesome\n",
        "informal_intensifier_dict={\"DictName\":\"intensifier\", \"very\":0, \"Very\":0, \"extremely\":0, \"Extremely\":0, \"really\":0, \"Really\":0, \"too\":0, \"Too\":0, \"so\":0}\n"
      ],
      "execution_count": null,
      "outputs": []
    },
    {
      "cell_type": "code",
      "metadata": {
        "id": "UVKMNQCyzSKA"
      },
      "source": [
        "#incomplete taboo dicts\n",
        "informal_subjective_dict={\"DictName\":\"subjective\", \"naturally\":0, \"Naturally\":0, \"obviously\":0, \"Obviously\":0}\n",
        "good_bad_dict={\"DictName\":\"good_bad\", \"good\":0, \"Good\":0, \"bad\":0, \"Bad\":0}\n",
        "superlatives_dict={\"DictName\":\"superlatives\", \"best\":0, \"Best\":0, \"worst\":0, \"Worst\":0}\n",
        "personal_preference_dict={\"DictName\":\"personal_preference\", \"like\":0, \"likes\":0, \"liked\":0, \"love\":0, \"loves\":0, \"loved\":0,\n",
        "             \"prefer\":0, \"prefers\":0, \"preferred\":0}"
      ],
      "execution_count": null,
      "outputs": []
    },
    {
      "cell_type": "code",
      "metadata": {
        "id": "5HRqZt7uzmyX"
      },
      "source": [
        "#extended taboo dicts\n",
        "informal_second_person_dict={\"DictName\":\"second_person\", \"you\":0, \"You\":0, \"your\":0, \"Your\":0}\n",
        "first_person_dict={\"DictName\":\"first_person\", \"I\":0, \"We\":0, \"we\":0}"
      ],
      "execution_count": null,
      "outputs": []
    },
    {
      "cell_type": "markdown",
      "metadata": {
        "id": "brMwTkht8HBK"
      },
      "source": [
        "For informal phrases dict"
      ]
    },
    {
      "cell_type": "code",
      "metadata": {
        "id": "gyWg-JM38LSc"
      },
      "source": [
        "def match_with_phrase_dict(words, i, word):\n",
        "  if i+1<len(words) and (word=='a' or word=='A') and words[i+1]=='bit': \n",
        "    return \"a bit\"\n",
        "  elif i+2<len(words) and (word==\"a\" or word=='A') and words[i+1]==\"lot\" and words[i+2]==\"of\":\n",
        "    return 'a lot of'\n",
        "  elif i+2<len(words) and (word==\"a\" or word=='A') and words[i+1]==\"couple\" and words[i+2]==\"of\":\n",
        "    return 'a couple of'\n",
        "  elif i+1<len(words) and (word==\"kind\" or word==\"Kind\") and words[i+1]==\"of\":\n",
        "    return 'kind of'\n",
        "  elif i+1<len(words) and word==\"sort\" and words[i+1]==\"of\":\n",
        "    return 'sort of'\n",
        "  elif i+1<len(words) and (word==\"of\" or word==\"Of\") and words[i+1]==\"course\":\n",
        "    return 'of course'\n",
        "  elif i+2<len(words) and (word==\"a\" or word==\"A\") and words[i+1]==\"long\" and words[i+1]==\"time\":\n",
        "    return 'a long time'\n",
        "  elif i+1<len(words) and (word==\"a\" or word==\"A\") and words[i+1]==\"while\":\n",
        "    return 'a while'\n",
        "  else:\n",
        "    return -1"
      ],
      "execution_count": null,
      "outputs": []
    },
    {
      "cell_type": "markdown",
      "metadata": {
        "id": "I3wL2-tBkjbJ"
      },
      "source": [
        "Print Dictionary"
      ]
    },
    {
      "cell_type": "code",
      "metadata": {
        "id": "Qq18O74dkmnY"
      },
      "source": [
        "from tabulate import tabulate\n",
        "def print_dict(taboo_dict):\n",
        "  arr=[]\n",
        "  print(\"##########################################\")\n",
        "  print(\"Dictionary Name: \",taboo_dict[\"DictName\"])\n",
        "  for key in taboo_dict.keys():\n",
        "    if(key!=\"DictName\"):\n",
        "      small_arr=[key,taboo_dict[key]]\n",
        "      arr.append(small_arr)\n",
        "  print(tabulate(arr,headers=['Key','Occurrence']))"
      ],
      "execution_count": null,
      "outputs": []
    },
    {
      "cell_type": "markdown",
      "metadata": {
        "id": "5Z7QlgISGo3N"
      },
      "source": [
        "Might need a Initialize taboo dictionary method to set values to 0"
      ]
    },
    {
      "cell_type": "code",
      "metadata": {
        "id": "oeT-pmQzItvr"
      },
      "source": [
        "def initialize_Taboo_dictionaries(taboo_dict_set):\n",
        "  for taboo_dict in taboo_dict_set:\n",
        "    for key in taboo_dict.keys():\n",
        "      if key!=\"DictName\":\n",
        "        taboo_dict[key]=0"
      ],
      "execution_count": null,
      "outputs": []
    },
    {
      "cell_type": "code",
      "metadata": {
        "id": "T9-CbmpsExrS"
      },
      "source": [
        "def get_Taboo_dictionaries(sentence_set,taboo_dict_set):\n",
        "  non_taboo_sentences_cnt=0\n",
        "  for line in sentence_set: \n",
        "\n",
        "    #preprocessing\n",
        "    mypunct=string.punctuation[0:6]+string.punctuation[7:len(string.punctuation)] #except '\n",
        "    punctless_sentence=line.translate(str.maketrans('','',mypunct))\n",
        "    words=punctless_sentence.split()\n",
        "\n",
        "    contain_taboo=False\n",
        "\n",
        "    for i, word in enumerate(words):\n",
        "      for taboo_dict in taboo_dict_set:\n",
        "        #not applicable for informal_phrase_dict\n",
        "        if word in taboo_dict.keys():\n",
        "          taboo_dict[word]+=1\n",
        "          contain_taboo=True\n",
        "          continue; #since there's no overlap word among taboo dictionaries\n",
        "        #hard code phrase taboo dict\n",
        "        if taboo_dict[\"DictName\"]==\"phrases\":\n",
        "          match_result_key=match_with_phrase_dict(words, i, word)\n",
        "          if match_result_key==-1:\n",
        "            continue\n",
        "          else:\n",
        "            taboo_dict[match_result_key]+=1\n",
        "            contain_taboo=True\n",
        "\n",
        "    if not contain_taboo:\n",
        "      non_taboo_sentences_cnt+=1\n",
        "  return taboo_dict_set, non_taboo_sentences_cnt\n"
      ],
      "execution_count": null,
      "outputs": []
    },
    {
      "cell_type": "markdown",
      "metadata": {
        "id": "LtV3b4fUKhqN"
      },
      "source": [
        "Get Statistics"
      ]
    },
    {
      "cell_type": "code",
      "metadata": {
        "id": "_xjyDhd1Kk9M"
      },
      "source": [
        "def get_statistics(sentence_set,result_taboo_dict_set):\n",
        "  sentence_cnt=len(sentence_set)\n",
        "  print(\"Total sentences count: \", sentence_cnt)\n",
        "  for taboo_dict in result_taboo_dict_set:\n",
        "    print(\"Taboo Dictionary: \", taboo_dict[\"DictName\"])\n",
        "    word_occurrence_cnt=0\n",
        "    for key in taboo_dict.keys():\n",
        "      if key!=\"DictName\":\n",
        "        word_occurrence_cnt+=taboo_dict[key]\n",
        "    print(\"----taboo word total occurrence: \", word_occurrence_cnt)\n"
      ],
      "execution_count": null,
      "outputs": []
    },
    {
      "cell_type": "markdown",
      "metadata": {
        "id": "KYrm7amoN_sx"
      },
      "source": [
        "For Entertainment Music Formal train set"
      ]
    },
    {
      "cell_type": "code",
      "metadata": {
        "id": "t-Fhlgh4WWhj"
      },
      "source": [
        "#path to the dataset\n",
        "path_to_dataset=\"/content/drive/MyDrive/CityU/FYP/Datasets/GYAFC/GYAFC_Corpus/Entertainment_Music/train/formal\"\n",
        "\n",
        "#open file\n",
        "f=open(path_to_dataset,\"r\")\n",
        "lines=f.readlines()"
      ],
      "execution_count": null,
      "outputs": []
    },
    {
      "cell_type": "code",
      "metadata": {
        "id": "p-dB4JwzHHU9",
        "colab": {
          "base_uri": "https://localhost:8080/"
        },
        "outputId": "3c29289b-952e-48d9-e95a-c8177e74d65d"
      },
      "source": [
        "#taboo dictionaries\n",
        "basic_taboo_dict_set=[sentence_start_dict, phrase_dict, vague_word_dict,\n",
        "        informal_contraction_dict, informal_frequency_dict, \n",
        "        informal_intensifier_dict, informal_others_dict]\n",
        "incomplete_taboo_dict_set=[informal_subjective_dict, good_bad_dict,\n",
        "        superlatives_dict, personal_preference_dict]\n",
        "extended_taboo_dict_set=[informal_second_person_dict, first_person_dict]\n",
        "\n",
        "#build up origin_taboo_dict\n",
        "origin_taboo_dict_set=[]\n",
        "origin_taboo_dict_set+=basic_taboo_dict_set\n",
        "origin_taboo_dict_set+=incomplete_taboo_dict_set\n",
        "origin_taboo_dict_set+=extended_taboo_dict_set\n",
        "\n",
        "#initialize origin_taboo_dict to 0\n",
        "initialize_Taboo_dictionaries(origin_taboo_dict_set)\n",
        "\n",
        "#get result taboo dict\n",
        "result_taboo_dict_set, ok_sentence_cnt=get_Taboo_dictionaries(lines,origin_taboo_dict_set)\n",
        "print(result_taboo_dict_set)\n",
        "print(\"Non-tabooed sentence count: \", ok_sentence_cnt)\n",
        "get_statistics(lines,result_taboo_dict_set)\n",
        "\n",
        "for t_dict in result_taboo_dict_set:\n",
        "  print_dict(t_dict)"
      ],
      "execution_count": null,
      "outputs": [
        {
          "output_type": "stream",
          "text": [
            "[{'DictName': 'sentence_start', 'Also': 94, 'So': 151, 'And': 149, 'Besides': 13}, {'DictName': 'phrases', 'a bit': 99, 'a lot of': 275, 'a couple of': 27, 'kind of': 121, 'sort of': 33, 'of course': 141, 'a long time': 0, 'a while': 63}, {'DictName': 'vague_word', 'stuff': 98, 'Stuff': 4, 'thing': 256, 'Thing': 17, 'anything': 319, 'Anything': 25, 'nothing': 150, 'Nothing': 42, 'something': 438, 'Something': 21, 'everything': 144, 'Everything': 28}, {'DictName': 'contraction', \"I'd\": 82, \"I'll\": 99, \"I've\": 178, \"I'm\": 893, \"you're\": 123, \"You're\": 63, \"you'll\": 34, \"You'll\": 27, \"she's\": 66, \"She's\": 64, \"he's\": 103, \"He's\": 72, \"she'd\": 1, \"he'd\": 3, \"she'll\": 2, \"he'll\": 4, \"She'd\": 1, \"He'd\": 0, \"She'll\": 3, \"He'll\": 1, \"they'll\": 7, \"they're\": 53, \"they've\": 4, \"They'll\": 6, \"They're\": 40, \"They've\": 1, \"we'd\": 1, \"we'll\": 5, \"we're\": 11, \"we've\": 1, \"We'd\": 0, \"We'll\": 5, \"We're\": 12, \"We've\": 4, \"it'll\": 1, \"it's\": 434, \"that's\": 111, \"there's\": 27, \"where's\": 1, \"let's\": 15, \"It'll\": 0, \"It's\": 464, \"That's\": 141, \"There's\": 40, \"Where's\": 3, \"Let's\": 24, \"can't\": 238, \"couldn't\": 51, \"didn't\": 204, \"doesn't\": 176, \"don't\": 1061, \"Can't\": 31, \"Couldn't\": 2, \"Didn't\": 18, \"Doesn't\": 7, \"Don't\": 167, \"hadn't\": 4, \"hasn't\": 17, \"isn't\": 128, \"shouldn't\": 21, \"wasn't\": 78, \"Hadn't\": 0, \"Hasn't\": 2, \"Isn't\": 14, \"Shouldn't\": 1, \"Wasn't\": 13, \"won't\": 84, \"wouldn't\": 75, \"could've\": 0, \"might've\": 1, \"must've\": 0, \"Won't\": 7, \"Wouldn't\": 6, \"Could've\": 0, \"Might've\": 0, \"Must've\": 0, \"should've\": 3, \"would've\": 6, \"who's\": 13, \"Should've\": 0, \"Would've\": 0, \"Who's\": 15}, {'DictName': 'frequency', 'always': 429, 'Always': 18, 'never': 564, 'Never': 46}, {'DictName': 'intensifier', 'very': 1679, 'Very': 21, 'extremely': 85, 'Extremely': 0, 'really': 947, 'Really': 13, 'too': 696, 'Too': 36, 'so': 1831}, {'DictName': 'others', 'till': 6, 'Till': 1}, {'DictName': 'subjective', 'naturally': 8, 'Naturally': 2, 'obviously': 31, 'Obviously': 14}, {'DictName': 'good_bad', 'good': 1774, 'Good': 272, 'bad': 324, 'Bad': 59}, {'DictName': 'superlatives', 'best': 841, 'Best': 85, 'worst': 68, 'Worst': 5}, {'DictName': 'personal_preference', 'like': 3341, 'likes': 75, 'liked': 132, 'love': 1222, 'loves': 55, 'loved': 117, 'prefer': 257, 'prefers': 10, 'preferred': 21}, {'DictName': 'second_person', 'you': 10228, 'You': 2628, 'your': 2029, 'Your': 528}, {'DictName': 'first_person', 'I': 25092, 'We': 271, 'we': 444}]\n",
            "Non-tabooed sentence count:  16010\n",
            "Total sentences count:  52595\n",
            "Taboo Dictionary:  sentence_start\n",
            "----taboo word total occurrence:  407\n",
            "Taboo Dictionary:  phrases\n",
            "----taboo word total occurrence:  759\n",
            "Taboo Dictionary:  vague_word\n",
            "----taboo word total occurrence:  1542\n",
            "Taboo Dictionary:  contraction\n",
            "----taboo word total occurrence:  5673\n",
            "Taboo Dictionary:  frequency\n",
            "----taboo word total occurrence:  1057\n",
            "Taboo Dictionary:  intensifier\n",
            "----taboo word total occurrence:  5308\n",
            "Taboo Dictionary:  others\n",
            "----taboo word total occurrence:  7\n",
            "Taboo Dictionary:  subjective\n",
            "----taboo word total occurrence:  55\n",
            "Taboo Dictionary:  good_bad\n",
            "----taboo word total occurrence:  2429\n",
            "Taboo Dictionary:  superlatives\n",
            "----taboo word total occurrence:  999\n",
            "Taboo Dictionary:  personal_preference\n",
            "----taboo word total occurrence:  5230\n",
            "Taboo Dictionary:  second_person\n",
            "----taboo word total occurrence:  15413\n",
            "Taboo Dictionary:  first_person\n",
            "----taboo word total occurrence:  25807\n",
            "##########################################\n",
            "Dictionary Name:  sentence_start\n",
            "Key        Occurrence\n",
            "-------  ------------\n",
            "Also               94\n",
            "So                151\n",
            "And               149\n",
            "Besides            13\n",
            "##########################################\n",
            "Dictionary Name:  phrases\n",
            "Key            Occurrence\n",
            "-----------  ------------\n",
            "a bit                  99\n",
            "a lot of              275\n",
            "a couple of            27\n",
            "kind of               121\n",
            "sort of                33\n",
            "of course             141\n",
            "a long time             0\n",
            "a while                63\n",
            "##########################################\n",
            "Dictionary Name:  vague_word\n",
            "Key           Occurrence\n",
            "----------  ------------\n",
            "stuff                 98\n",
            "Stuff                  4\n",
            "thing                256\n",
            "Thing                 17\n",
            "anything             319\n",
            "Anything              25\n",
            "nothing              150\n",
            "Nothing               42\n",
            "something            438\n",
            "Something             21\n",
            "everything           144\n",
            "Everything            28\n",
            "##########################################\n",
            "Dictionary Name:  contraction\n",
            "Key          Occurrence\n",
            "---------  ------------\n",
            "I'd                  82\n",
            "I'll                 99\n",
            "I've                178\n",
            "I'm                 893\n",
            "you're              123\n",
            "You're               63\n",
            "you'll               34\n",
            "You'll               27\n",
            "she's                66\n",
            "She's                64\n",
            "he's                103\n",
            "He's                 72\n",
            "she'd                 1\n",
            "he'd                  3\n",
            "she'll                2\n",
            "he'll                 4\n",
            "She'd                 1\n",
            "He'd                  0\n",
            "She'll                3\n",
            "He'll                 1\n",
            "they'll               7\n",
            "they're              53\n",
            "they've               4\n",
            "They'll               6\n",
            "They're              40\n",
            "They've               1\n",
            "we'd                  1\n",
            "we'll                 5\n",
            "we're                11\n",
            "we've                 1\n",
            "We'd                  0\n",
            "We'll                 5\n",
            "We're                12\n",
            "We've                 4\n",
            "it'll                 1\n",
            "it's                434\n",
            "that's              111\n",
            "there's              27\n",
            "where's               1\n",
            "let's                15\n",
            "It'll                 0\n",
            "It's                464\n",
            "That's              141\n",
            "There's              40\n",
            "Where's               3\n",
            "Let's                24\n",
            "can't               238\n",
            "couldn't             51\n",
            "didn't              204\n",
            "doesn't             176\n",
            "don't              1061\n",
            "Can't                31\n",
            "Couldn't              2\n",
            "Didn't               18\n",
            "Doesn't               7\n",
            "Don't               167\n",
            "hadn't                4\n",
            "hasn't               17\n",
            "isn't               128\n",
            "shouldn't            21\n",
            "wasn't               78\n",
            "Hadn't                0\n",
            "Hasn't                2\n",
            "Isn't                14\n",
            "Shouldn't             1\n",
            "Wasn't               13\n",
            "won't                84\n",
            "wouldn't             75\n",
            "could've              0\n",
            "might've              1\n",
            "must've               0\n",
            "Won't                 7\n",
            "Wouldn't              6\n",
            "Could've              0\n",
            "Might've              0\n",
            "Must've               0\n",
            "should've             3\n",
            "would've              6\n",
            "who's                13\n",
            "Should've             0\n",
            "Would've              0\n",
            "Who's                15\n",
            "##########################################\n",
            "Dictionary Name:  frequency\n",
            "Key       Occurrence\n",
            "------  ------------\n",
            "always           429\n",
            "Always            18\n",
            "never            564\n",
            "Never             46\n",
            "##########################################\n",
            "Dictionary Name:  intensifier\n",
            "Key          Occurrence\n",
            "---------  ------------\n",
            "very               1679\n",
            "Very                 21\n",
            "extremely            85\n",
            "Extremely             0\n",
            "really              947\n",
            "Really               13\n",
            "too                 696\n",
            "Too                  36\n",
            "so                 1831\n",
            "##########################################\n",
            "Dictionary Name:  others\n",
            "Key      Occurrence\n",
            "-----  ------------\n",
            "till              6\n",
            "Till              1\n",
            "##########################################\n",
            "Dictionary Name:  subjective\n",
            "Key          Occurrence\n",
            "---------  ------------\n",
            "naturally             8\n",
            "Naturally             2\n",
            "obviously            31\n",
            "Obviously            14\n",
            "##########################################\n",
            "Dictionary Name:  good_bad\n",
            "Key      Occurrence\n",
            "-----  ------------\n",
            "good           1774\n",
            "Good            272\n",
            "bad             324\n",
            "Bad              59\n",
            "##########################################\n",
            "Dictionary Name:  superlatives\n",
            "Key      Occurrence\n",
            "-----  ------------\n",
            "best            841\n",
            "Best             85\n",
            "worst            68\n",
            "Worst             5\n",
            "##########################################\n",
            "Dictionary Name:  personal_preference\n",
            "Key          Occurrence\n",
            "---------  ------------\n",
            "like               3341\n",
            "likes                75\n",
            "liked               132\n",
            "love               1222\n",
            "loves                55\n",
            "loved               117\n",
            "prefer              257\n",
            "prefers              10\n",
            "preferred            21\n",
            "##########################################\n",
            "Dictionary Name:  second_person\n",
            "Key      Occurrence\n",
            "-----  ------------\n",
            "you           10228\n",
            "You            2628\n",
            "your           2029\n",
            "Your            528\n",
            "##########################################\n",
            "Dictionary Name:  first_person\n",
            "Key      Occurrence\n",
            "-----  ------------\n",
            "I             25092\n",
            "We              271\n",
            "we              444\n"
          ],
          "name": "stdout"
        }
      ]
    },
    {
      "cell_type": "code",
      "metadata": {
        "id": "2bQ41r1ali45"
      },
      "source": [
        ""
      ],
      "execution_count": null,
      "outputs": []
    },
    {
      "cell_type": "markdown",
      "metadata": {
        "id": "gF6G4nWhPcAz"
      },
      "source": [
        "Entertainment Music formal train set with GoodBad, Superlative taboo, First Person"
      ]
    },
    {
      "cell_type": "code",
      "metadata": {
        "id": "al-zOniYPjFh",
        "colab": {
          "base_uri": "https://localhost:8080/",
          "height": 231
        },
        "outputId": "73dc3135-bd32-445e-d42f-044f943092e3"
      },
      "source": [
        "#testing\n",
        "f=open(\"E&M_training_formal\",\"r\")\n",
        "lines=f.readlines()\n",
        "\n",
        "origin_taboo_dict_set=[]\n",
        "#note that informal_phrase_dict might be obsolete now\n",
        "origin_taboo_dict_set.extend([sentence_start_dict, phrase_dict, vague_word_dict,\n",
        "        informal_contraction_dict, informal_second_person_dict, \n",
        "        informal_frequency_dict, informal_intensifier_dict, informal_subjective_dict, informal_others_dict])\n",
        "\n",
        "############################################################\n",
        "origin_taboo_dict_set.extend([good_bad_dict,superlatives_dict])\n",
        "############################################################\n",
        "origin_taboo_dict_set.append(personal_preference_dict)\n",
        "############################################################\n",
        "origin_taboo_dict_set.append(first_person_dict)\n",
        "############################################################\n",
        "initialize_Taboo_dictionaries(origin_taboo_dict_set)\n",
        "result_taboo_dict_set, ok_sentence_cnt=get_Taboo_dictionaries(lines,origin_taboo_dict_set)\n",
        "print(result_taboo_dict_set)\n",
        "print(\"Non-tabooed sentence count: \", ok_sentence_cnt)\n",
        "get_statistics(lines,result_taboo_dict_set)\n",
        "\n",
        "for t_dict in result_taboo_dict_set:\n",
        "  print_dict(t_dict)"
      ],
      "execution_count": null,
      "outputs": [
        {
          "output_type": "error",
          "ename": "FileNotFoundError",
          "evalue": "ignored",
          "traceback": [
            "\u001b[0;31m---------------------------------------------------------------------------\u001b[0m",
            "\u001b[0;31mFileNotFoundError\u001b[0m                         Traceback (most recent call last)",
            "\u001b[0;32m<ipython-input-14-5d4f677ae79e>\u001b[0m in \u001b[0;36m<module>\u001b[0;34m()\u001b[0m\n\u001b[1;32m      1\u001b[0m \u001b[0;31m#testing\u001b[0m\u001b[0;34m\u001b[0m\u001b[0;34m\u001b[0m\u001b[0;34m\u001b[0m\u001b[0m\n\u001b[0;32m----> 2\u001b[0;31m \u001b[0mf\u001b[0m\u001b[0;34m=\u001b[0m\u001b[0mopen\u001b[0m\u001b[0;34m(\u001b[0m\u001b[0;34m\"E&M_training_formal\"\u001b[0m\u001b[0;34m,\u001b[0m\u001b[0;34m\"r\"\u001b[0m\u001b[0;34m)\u001b[0m\u001b[0;34m\u001b[0m\u001b[0;34m\u001b[0m\u001b[0m\n\u001b[0m\u001b[1;32m      3\u001b[0m \u001b[0mlines\u001b[0m\u001b[0;34m=\u001b[0m\u001b[0mf\u001b[0m\u001b[0;34m.\u001b[0m\u001b[0mreadlines\u001b[0m\u001b[0;34m(\u001b[0m\u001b[0;34m)\u001b[0m\u001b[0;34m\u001b[0m\u001b[0;34m\u001b[0m\u001b[0m\n\u001b[1;32m      4\u001b[0m \u001b[0;34m\u001b[0m\u001b[0m\n\u001b[1;32m      5\u001b[0m \u001b[0morigin_taboo_dict_set\u001b[0m\u001b[0;34m=\u001b[0m\u001b[0;34m[\u001b[0m\u001b[0;34m]\u001b[0m\u001b[0;34m\u001b[0m\u001b[0;34m\u001b[0m\u001b[0m\n",
            "\u001b[0;31mFileNotFoundError\u001b[0m: [Errno 2] No such file or directory: 'E&M_training_formal'"
          ]
        }
      ]
    },
    {
      "cell_type": "markdown",
      "metadata": {
        "id": "HAtIwZWGHH2u"
      },
      "source": [
        "Original design:"
      ]
    },
    {
      "cell_type": "code",
      "metadata": {
        "id": "udgLHU_v66Xe"
      },
      "source": [
        "line_cnt=0\n",
        "import string \n",
        "import re\n",
        "\n",
        "non_taboo_sentences_cnt=0\n",
        "\n",
        "for line in lines:\n",
        "  \n",
        "  #preprocessing\n",
        "  mypunct=string.punctuation[0:6]+string.punctuation[7:len(string.punctuation)] #except '\n",
        "  punctless_line=line.translate(str.maketrans('','',mypunct))\n",
        "  words=punctless_line.split()\n",
        "  \n",
        "  contain_taboo_words=False\n",
        "  for i, word in enumerate(words):\n",
        "\n",
        "    #for informal sentence start\n",
        "    if word in informal_sentence_start_dict.keys():\n",
        "      informal_sentence_start_dict[word]+=1\n",
        "      contain_taboo_words=True\n",
        "\n",
        "    #for informal_phrase_dict, find matching phrases\n",
        "    elif i+1<len(words) and (word=='a' or word=='A') and words[i+1]=='bit': \n",
        "      informal_phrase_dict['a bit']+=1\n",
        "      contain_taboo_words=True\n",
        "    elif i+2<len(words) and (word==\"a\" or word=='A') and words[i+1]==\"lot\" and words[i+2]==\"of\":\n",
        "      informal_phrase_dict['a lot of']+=1\n",
        "      contain_taboo_words=True\n",
        "    elif i+2<len(words) and (word==\"a\" or word=='A') and words[i+1]==\"couple\" and words[i+2]==\"of\":\n",
        "      informal_phrase_dict['a couple of']+=1\n",
        "      contain_taboo_words=True\n",
        "    elif i+1<len(words) and (word==\"kind\" or word==\"Kind\") and words[i+1]==\"of\":\n",
        "      informal_phrase_dict['kind of']+=1\n",
        "      contain_taboo_words=True\n",
        "    elif i+1<len(words) and word==\"sort\" and words[i+1]==\"of\":\n",
        "      informal_phrase_dict['sort of']+=1\n",
        "      contain_taboo_words=True\n",
        "    elif i+1<len(words) and (word==\"of\" or word==\"Of\") and words[i+1]==\"course\":\n",
        "      informal_phrase_dict['of course']+=1\n",
        "      contain_taboo_words=True\n",
        "\n",
        "    #for vague words\n",
        "    elif word in informal_vague_word_dict.keys():\n",
        "      informal_vague_word_dict[word]+=1\n",
        "      contain_taboo_words=True\n",
        "    elif i+1<len(words) and (word=='a' or word=='A') and words[i+1]=='while':\n",
        "      informal_vague_word_dict['a while']+=1\n",
        "      contain_taboo_words=True\n",
        "    elif i+2<len(words) and (word==\"a\" or word=='A') and words[i+1]==\"long\" and words[i+2]==\"time\":\n",
        "      informal_vague_word_dict['a long time']+=1\n",
        "      contain_taboo_words=True\n",
        "    \n",
        "    #for contraction\n",
        "    elif word in informal_contraction_dict.keys():\n",
        "      informal_contraction_dict[word]+=1\n",
        "      contain_taboo_words=True\n",
        "\n",
        "    #for second person\n",
        "    elif word in informal_second_person_dict.keys():\n",
        "      informal_second_person_dict[word]+=1\n",
        "      contain_taboo_words=True\n",
        "    \n",
        "    #for frequency\n",
        "    elif word in informal_frequency_dict.keys():\n",
        "      informal_frequency_dict[word]+=1\n",
        "      contain_taboo_words=True\n",
        "\n",
        "    #for intensifier\n",
        "    elif word in informal_intensifier_dict.keys():\n",
        "      informal_intensifier_dict[word]+=1\n",
        "      contain_taboo_words=True\n",
        "    \n",
        "    #for subjective\n",
        "    elif word in informal_subjective_dict.keys():\n",
        "      informal_subjective_dict[word]+=1\n",
        "      contain_taboo_words=True\n",
        "    \n",
        "    #for others\n",
        "    elif word in informal_others_dict.keys():\n",
        "      informal_others_dict[word]+=1\n",
        "      contain_taboo_words=True\n",
        "  if not contain_taboo_words:\n",
        "    non_taboo_sentences_cnt+=1\n",
        "    #print(line)\n",
        "    \n",
        "    \n",
        "  \n",
        "print(non_taboo_sentences_cnt)\n",
        "      \n",
        "print(informal_sentence_start_dict)\n",
        "print(informal_phrase_dict)\n",
        "print(informal_vague_word_dict)\n",
        "print(informal_contraction_dict)\n",
        "print(informal_second_person_dict)\n",
        "print(informal_frequency_dict)\n",
        "print(informal_intensifier_dict)\n",
        "print(informal_subjective_dict)\n",
        "print(informal_others_dict)"
      ],
      "execution_count": null,
      "outputs": []
    }
  ]
}