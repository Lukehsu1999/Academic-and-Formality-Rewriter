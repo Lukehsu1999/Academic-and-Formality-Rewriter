{
  "nbformat": 4,
  "nbformat_minor": 0,
  "metadata": {
    "colab": {
      "name": "GetOutput.ipynb",
      "provenance": [],
      "mount_file_id": "123YbeOuNLiun1sBaFKRM9D9VTzYHJHBc",
      "authorship_tag": "ABX9TyPq/dC3/aNp2pFeVz+8/CBJ",
      "include_colab_link": true
    },
    "kernelspec": {
      "name": "python3",
      "display_name": "Python 3"
    },
    "language_info": {
      "name": "python"
    },
    "accelerator": "GPU"
  },
  "cells": [
    {
      "cell_type": "markdown",
      "metadata": {
        "id": "view-in-github",
        "colab_type": "text"
      },
      "source": [
        "<a href=\"https://colab.research.google.com/github/Lukehsu1999/Academic-and-Formality-Rewriter/blob/main/model/GetOutput.ipynb\" target=\"_parent\"><img src=\"https://colab.research.google.com/assets/colab-badge.svg\" alt=\"Open In Colab\"/></a>"
      ]
    },
    {
      "cell_type": "code",
      "metadata": {
        "id": "Zh3t6-8nEaAl"
      },
      "source": [
        "!pip install transformers\n",
        "!pip install datasets==1.0.2\n",
        "\n",
        "import datasets\n",
        "import transformers\n",
        "import torch"
      ],
      "execution_count": null,
      "outputs": []
    },
    {
      "cell_type": "code",
      "metadata": {
        "id": "8X2lGG2sEhPu"
      },
      "source": [
        "from transformers import BertTokenizerFast\n",
        "\n",
        "tokenizer = BertTokenizerFast.from_pretrained(\"bert-base-cased\")\n",
        "tokenizer.bos_token = tokenizer.cls_token\n",
        "tokenizer.eos_token = tokenizer.sep_token"
      ],
      "execution_count": null,
      "outputs": []
    },
    {
      "cell_type": "code",
      "metadata": {
        "id": "-Ckjd0kuEkvD"
      },
      "source": [
        "path_to_demo_model= \"/content/drive/MyDrive/CityU/FYP/Models/Formal_Rewriter/Epoch_3\""
      ],
      "execution_count": null,
      "outputs": []
    },
    {
      "cell_type": "code",
      "metadata": {
        "id": "Egng70vLEns7"
      },
      "source": [
        "from transformers import EncoderDecoderModel\n",
        "#if you want to start from a checkpoint: \n",
        "demo_model=EncoderDecoderModel.from_pretrained(path_to_demo_model)"
      ],
      "execution_count": null,
      "outputs": []
    },
    {
      "cell_type": "code",
      "metadata": {
        "id": "aylvJFVdEqlE"
      },
      "source": [
        "device=torch.device(\"cuda\" if torch.cuda.is_available() else \"cpu\")\n",
        "demo_model.to(device)"
      ],
      "execution_count": null,
      "outputs": []
    },
    {
      "cell_type": "code",
      "metadata": {
        "colab": {
          "base_uri": "https://localhost:8080/"
        },
        "id": "92b2-F-rE2VE",
        "outputId": "16ec1c0d-5791-434b-c46c-f93271eb2422"
      },
      "source": [
        "demo_sentence='what is happeninggg'\n",
        "demo_input=tokenizer(demo_sentence, padding=\"max_length\", truncation=True, max_length=128, return_tensors=\"pt\")\n",
        "demo_ids=demo_input.input_ids.to(\"cuda\")\n",
        "demo_attention_mask=demo_input.attention_mask.to(\"cuda\")\n",
        "\n",
        "outputs=demo_model.generate(demo_ids)\n",
        "output_str=tokenizer.decode(outputs[0],skip_special_tokens=True)\n",
        "\n",
        "print(output_str)"
      ],
      "execution_count": null,
      "outputs": [
        {
          "output_type": "stream",
          "text": [
            "What's going on with this?\n"
          ],
          "name": "stdout"
        }
      ]
    },
    {
      "cell_type": "code",
      "metadata": {
        "id": "EL1vNGSlFUkl"
      },
      "source": [
        "def get_output(demo_sentence):\n",
        "  demo_input=tokenizer(demo_sentence, padding=\"max_length\", truncation=True, max_length=128, return_tensors=\"pt\")\n",
        "  demo_ids=demo_input.input_ids.to(\"cuda\")\n",
        "  demo_attention_mask=demo_input.attention_mask.to(\"cuda\")\n",
        "\n",
        "  outputs=demo_model.generate(demo_ids)\n",
        "  output_str=tokenizer.decode(outputs[0],skip_special_tokens=True)\n",
        "  return output_str"
      ],
      "execution_count": null,
      "outputs": []
    },
    {
      "cell_type": "code",
      "metadata": {
        "id": "oVFP9QllgfL1"
      },
      "source": [
        "def save_output_to_file(test_path, output_path):\n",
        "  source = open(test_path, \"r\")\n",
        "  lines = source.readlines()\n",
        "  print(\"Source cnt: \"+str(len(lines)))\n",
        "\n",
        "  target_file = open(output_path, \"w\")\n",
        "  for i in range(0,len(lines)):\n",
        "    input_line = lines[i]\n",
        "    # print(input_line)\n",
        "    output_line = get_output(input_line)\n",
        "    target_file.write(output_line+'\\n')\n"
      ],
      "execution_count": null,
      "outputs": []
    },
    {
      "cell_type": "code",
      "metadata": {
        "id": "SwCo1liNyumA"
      },
      "source": [
        "path_to_EM_test = \"/content/drive/MyDrive/CityU/FYP/Datasets/GYAFC/GYAFC_Corpus/Entertainment_Music/test/informal\"\n",
        "path_to_output = \"/content/drive/MyDrive/CityU/FYP/Model_Outputs/EM_test/formal_rewriter\""
      ],
      "execution_count": null,
      "outputs": []
    },
    {
      "cell_type": "code",
      "metadata": {
        "colab": {
          "base_uri": "https://localhost:8080/"
        },
        "id": "SQWG8vUNy5_S",
        "outputId": "2e03d221-44e2-4be1-e560-3a7650f50b49"
      },
      "source": [
        "save_output_to_file(path_to_EM_test, path_to_output)"
      ],
      "execution_count": null,
      "outputs": [
        {
          "output_type": "stream",
          "text": [
            "Source cnt: 1416\n"
          ],
          "name": "stdout"
        }
      ]
    },
    {
      "cell_type": "code",
      "metadata": {
        "colab": {
          "base_uri": "https://localhost:8080/"
        },
        "id": "sv1pXxQg01aY",
        "outputId": "bcb7a9dd-9b3f-4c44-a96a-75dbd49a1ac4"
      },
      "source": [
        "path_to_FR_test = \"/content/drive/MyDrive/CityU/FYP/Datasets/GYAFC/GYAFC_Corpus/Family_Relationships/test/informal\"\n",
        "path_to_output = \"/content/drive/MyDrive/CityU/FYP/Model_Outputs/FR_test/formal_rewriter\"\n",
        "save_output_to_file(path_to_FR_test, path_to_output)"
      ],
      "execution_count": null,
      "outputs": [
        {
          "output_type": "stream",
          "text": [
            "Source cnt: 1332\n"
          ],
          "name": "stdout"
        }
      ]
    },
    {
      "cell_type": "code",
      "metadata": {
        "colab": {
          "base_uri": "https://localhost:8080/"
        },
        "id": "hm3het0HhTOJ",
        "outputId": "21643421-7ab1-440d-f211-6024a0a09227"
      },
      "source": [
        "# save_output_to_file(path_to_EM_test, path_to_EM_model_Ep3_EM_test_output)\n",
        "# save_output_to_file(path_to_FR_test, path_to_EM_model_Ep3_FR_test_output)\n",
        "\n",
        "# save_output_to_file(path_to_EM_test, path_to_FR_model_Ep3_EM_test_output)\n",
        "# save_output_to_file(path_to_FR_test, path_to_FR_model_Ep3_FR_test_output)\n",
        "\n",
        "save_output_to_file(path_to_EM_test, path_to_EMFR_model_Ep3_EM_test_output)\n",
        "save_output_to_file(path_to_FR_test, path_to_EMFR_model_Ep3_FR_test_output)"
      ],
      "execution_count": null,
      "outputs": [
        {
          "output_type": "stream",
          "text": [
            "Source cnt: 1416\n",
            "Source cnt: 1332\n"
          ],
          "name": "stdout"
        }
      ]
    },
    {
      "cell_type": "code",
      "metadata": {
        "id": "CaaD-I9XHJ_5"
      },
      "source": [
        "path_to_EM_test = \"/content/drive/MyDrive/CityU/FYP/Datasets/GYAFC/GYAFC_Corpus/Entertainment_Music/test/informal\"\n",
        "path_to_FR_test = \"/content/drive/MyDrive/CityU/FYP/Datasets/GYAFC/GYAFC_Corpus/Family_Relationships/test/informal\"\n",
        "\n",
        "path_to_EM_model = \"/content/drive/MyDrive/CityU/FYP/Mar29Split/EM/checkpoint-8964\"\n",
        "path_to_EM_model_Ep3_EM_test_output=\"/content/drive/MyDrive/CityU/FYP/Mar29Split/test_output/EM_model/EM_model_3pochs_EM_test\"\n",
        "path_to_EM_model_Ep3_FR_test_output=\"/content/drive/MyDrive/CityU/FYP/Mar29Split/test_output/EM_model/EM_model_3pochs_FR_test\"\n",
        "\n",
        "path_to_FR_model = \"/content/drive/MyDrive/CityU/FYP/Mar29Split/FR/checkpoint-8859\"\n",
        "path_to_FR_model_Ep3_EM_test_output = \"/content/drive/MyDrive/CityU/FYP/Mar29Split/test_output/FR_model/FR_model_3pochs_EM_test\"\n",
        "path_to_FR_model_Ep3_FR_test_output=\"/content/drive/MyDrive/CityU/FYP/Mar29Split/test_output/FR_model/FR_model_3pochs_FR_test\"\n",
        "\n",
        "path_toEMFR_model = \"/content/drive/MyDrive/CityU/FYP/Mar29Split/FR+EM/checkpoint-11882+5941\"\n",
        "path_to_EMFR_model_Ep3_EM_test_output = \"/content/drive/MyDrive/CityU/FYP/Mar29Split/test_output/EMFR_model/EMFR_model_3pochs_EM_test\"\n",
        "path_to_EMFR_model_Ep3_FR_test_output=\"/content/drive/MyDrive/CityU/FYP/Mar29Split/test_output/EMFR_model/EMFR_model_3pochs_FR_test\""
      ],
      "execution_count": null,
      "outputs": []
    },
    {
      "cell_type": "code",
      "metadata": {
        "colab": {
          "base_uri": "https://localhost:8080/"
        },
        "id": "CF_xSDrmlmtP",
        "outputId": "7989336d-7b5a-4cd8-ee81-f0dc3343ddaf"
      },
      "source": [
        "EMsource = open(path_to_EM_model_Ep3_EM_test_output, \"r\")\n",
        "EMlines = EMsource.readlines()\n",
        "\n",
        "FRsource = open(path_to_FR_model_Ep3_EM_test_output, \"r\")\n",
        "FRlines = FRsource.readlines()\n",
        "\n",
        "EMFRsource = open(path_to_EMFR_model_Ep3_EM_test_output, \"r\")\n",
        "EMFRlines = EMFRsource.readlines()\n",
        "\n",
        "print(\"Source cnt: \"+str(len(lines)))\n",
        "idx=472\n",
        "print(EMlines[idx])\n",
        "print(FRlines[idx])\n",
        "print(EMFRlines[idx])"
      ],
      "execution_count": null,
      "outputs": [
        {
          "output_type": "stream",
          "text": [
            "Source cnt: 1416\n",
            "Tom Cruise is in a movie that looks like a movie.\n",
            "\n",
            "Tom Cruise is in a movie, which is the definition of \" movie movie \".\n",
            "\n",
            "Tom Cruise is in it, which is the definition of a movie.\n",
            "\n"
          ],
          "name": "stdout"
        }
      ]
    }
  ]
}