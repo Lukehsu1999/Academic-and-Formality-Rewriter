{
  "nbformat": 4,
  "nbformat_minor": 0,
  "metadata": {
    "accelerator": "GPU",
    "colab": {
      "name": "GYAFC Bert2Bert.ipynb",
      "provenance": [],
      "collapsed_sections": [],
      "mount_file_id": "1EMttDeJCrHBsF9XD2pLDEu4OVYueFG8Z",
      "authorship_tag": "ABX9TyOuvr/WnaGw7V0wWhyF4+Ox",
      "include_colab_link": true
    },
    "kernelspec": {
      "display_name": "Python 3",
      "name": "python3"
    },
    "widgets": {
      "application/vnd.jupyter.widget-state+json": {
        "40a07123c0f84332bdfc1aabbd99bce5": {
          "model_module": "@jupyter-widgets/controls",
          "model_name": "HBoxModel",
          "state": {
            "_view_name": "HBoxView",
            "_dom_classes": [],
            "_model_name": "HBoxModel",
            "_view_module": "@jupyter-widgets/controls",
            "_model_module_version": "1.5.0",
            "_view_count": null,
            "_view_module_version": "1.5.0",
            "box_style": "",
            "layout": "IPY_MODEL_3299a99ef9404cac9f09e8554a582b1d",
            "_model_module": "@jupyter-widgets/controls",
            "children": [
              "IPY_MODEL_05097454010f4a22912e86bea7e0db14",
              "IPY_MODEL_6fea8f3b6cea45e8a85e07c35de3a589"
            ]
          }
        },
        "3299a99ef9404cac9f09e8554a582b1d": {
          "model_module": "@jupyter-widgets/base",
          "model_name": "LayoutModel",
          "state": {
            "_view_name": "LayoutView",
            "grid_template_rows": null,
            "right": null,
            "justify_content": null,
            "_view_module": "@jupyter-widgets/base",
            "overflow": null,
            "_model_module_version": "1.2.0",
            "_view_count": null,
            "flex_flow": null,
            "width": null,
            "min_width": null,
            "border": null,
            "align_items": null,
            "bottom": null,
            "_model_module": "@jupyter-widgets/base",
            "top": null,
            "grid_column": null,
            "overflow_y": null,
            "overflow_x": null,
            "grid_auto_flow": null,
            "grid_area": null,
            "grid_template_columns": null,
            "flex": null,
            "_model_name": "LayoutModel",
            "justify_items": null,
            "grid_row": null,
            "max_height": null,
            "align_content": null,
            "visibility": null,
            "align_self": null,
            "height": null,
            "min_height": null,
            "padding": null,
            "grid_auto_rows": null,
            "grid_gap": null,
            "max_width": null,
            "order": null,
            "_view_module_version": "1.2.0",
            "grid_template_areas": null,
            "object_position": null,
            "object_fit": null,
            "grid_auto_columns": null,
            "margin": null,
            "display": null,
            "left": null
          }
        },
        "05097454010f4a22912e86bea7e0db14": {
          "model_module": "@jupyter-widgets/controls",
          "model_name": "FloatProgressModel",
          "state": {
            "_view_name": "ProgressView",
            "style": "IPY_MODEL_b1036f6f6f7046b2850fd6c3263b8a2f",
            "_dom_classes": [],
            "description": "Downloading: ",
            "_model_name": "FloatProgressModel",
            "bar_style": "success",
            "max": 1656,
            "_view_module": "@jupyter-widgets/controls",
            "_model_module_version": "1.5.0",
            "value": 1656,
            "_view_count": null,
            "_view_module_version": "1.5.0",
            "orientation": "horizontal",
            "min": 0,
            "description_tooltip": null,
            "_model_module": "@jupyter-widgets/controls",
            "layout": "IPY_MODEL_c0d474ff078448e9b37545196c8a29ed"
          }
        },
        "6fea8f3b6cea45e8a85e07c35de3a589": {
          "model_module": "@jupyter-widgets/controls",
          "model_name": "HTMLModel",
          "state": {
            "_view_name": "HTMLView",
            "style": "IPY_MODEL_3ad49eadec5b4dd1b6cbc736d7209dcc",
            "_dom_classes": [],
            "description": "",
            "_model_name": "HTMLModel",
            "placeholder": "​",
            "_view_module": "@jupyter-widgets/controls",
            "_model_module_version": "1.5.0",
            "value": " 4.20k/? [00:00&lt;00:00, 25.8kB/s]",
            "_view_count": null,
            "_view_module_version": "1.5.0",
            "description_tooltip": null,
            "_model_module": "@jupyter-widgets/controls",
            "layout": "IPY_MODEL_8dd22fcf7fd54a139bcbea2ae2bdd85a"
          }
        },
        "b1036f6f6f7046b2850fd6c3263b8a2f": {
          "model_module": "@jupyter-widgets/controls",
          "model_name": "ProgressStyleModel",
          "state": {
            "_view_name": "StyleView",
            "_model_name": "ProgressStyleModel",
            "description_width": "initial",
            "_view_module": "@jupyter-widgets/base",
            "_model_module_version": "1.5.0",
            "_view_count": null,
            "_view_module_version": "1.2.0",
            "bar_color": null,
            "_model_module": "@jupyter-widgets/controls"
          }
        },
        "c0d474ff078448e9b37545196c8a29ed": {
          "model_module": "@jupyter-widgets/base",
          "model_name": "LayoutModel",
          "state": {
            "_view_name": "LayoutView",
            "grid_template_rows": null,
            "right": null,
            "justify_content": null,
            "_view_module": "@jupyter-widgets/base",
            "overflow": null,
            "_model_module_version": "1.2.0",
            "_view_count": null,
            "flex_flow": null,
            "width": null,
            "min_width": null,
            "border": null,
            "align_items": null,
            "bottom": null,
            "_model_module": "@jupyter-widgets/base",
            "top": null,
            "grid_column": null,
            "overflow_y": null,
            "overflow_x": null,
            "grid_auto_flow": null,
            "grid_area": null,
            "grid_template_columns": null,
            "flex": null,
            "_model_name": "LayoutModel",
            "justify_items": null,
            "grid_row": null,
            "max_height": null,
            "align_content": null,
            "visibility": null,
            "align_self": null,
            "height": null,
            "min_height": null,
            "padding": null,
            "grid_auto_rows": null,
            "grid_gap": null,
            "max_width": null,
            "order": null,
            "_view_module_version": "1.2.0",
            "grid_template_areas": null,
            "object_position": null,
            "object_fit": null,
            "grid_auto_columns": null,
            "margin": null,
            "display": null,
            "left": null
          }
        },
        "3ad49eadec5b4dd1b6cbc736d7209dcc": {
          "model_module": "@jupyter-widgets/controls",
          "model_name": "DescriptionStyleModel",
          "state": {
            "_view_name": "StyleView",
            "_model_name": "DescriptionStyleModel",
            "description_width": "",
            "_view_module": "@jupyter-widgets/base",
            "_model_module_version": "1.5.0",
            "_view_count": null,
            "_view_module_version": "1.2.0",
            "_model_module": "@jupyter-widgets/controls"
          }
        },
        "8dd22fcf7fd54a139bcbea2ae2bdd85a": {
          "model_module": "@jupyter-widgets/base",
          "model_name": "LayoutModel",
          "state": {
            "_view_name": "LayoutView",
            "grid_template_rows": null,
            "right": null,
            "justify_content": null,
            "_view_module": "@jupyter-widgets/base",
            "overflow": null,
            "_model_module_version": "1.2.0",
            "_view_count": null,
            "flex_flow": null,
            "width": null,
            "min_width": null,
            "border": null,
            "align_items": null,
            "bottom": null,
            "_model_module": "@jupyter-widgets/base",
            "top": null,
            "grid_column": null,
            "overflow_y": null,
            "overflow_x": null,
            "grid_auto_flow": null,
            "grid_area": null,
            "grid_template_columns": null,
            "flex": null,
            "_model_name": "LayoutModel",
            "justify_items": null,
            "grid_row": null,
            "max_height": null,
            "align_content": null,
            "visibility": null,
            "align_self": null,
            "height": null,
            "min_height": null,
            "padding": null,
            "grid_auto_rows": null,
            "grid_gap": null,
            "max_width": null,
            "order": null,
            "_view_module_version": "1.2.0",
            "grid_template_areas": null,
            "object_position": null,
            "object_fit": null,
            "grid_auto_columns": null,
            "margin": null,
            "display": null,
            "left": null
          }
        }
      }
    }
  },
  "cells": [
    {
      "cell_type": "markdown",
      "metadata": {
        "id": "view-in-github",
        "colab_type": "text"
      },
      "source": [
        "<a href=\"https://colab.research.google.com/github/Lukehsu1999/Academic-and-Formality-Rewriter/blob/main/model/GYAFC_Bert2Bert.ipynb\" target=\"_parent\"><img src=\"https://colab.research.google.com/assets/colab-badge.svg\" alt=\"Open In Colab\"/></a>"
      ]
    },
    {
      "cell_type": "code",
      "metadata": {
        "id": "WTf1awjjkIIZ"
      },
      "source": [
        "!pip install transformers\n",
        "!pip install datasets==1.0.2\n",
        "\n",
        "import datasets\n",
        "import transformers"
      ],
      "execution_count": null,
      "outputs": []
    },
    {
      "cell_type": "code",
      "metadata": {
        "id": "XVdi_lrmkRdn"
      },
      "source": [
        "from transformers import BertTokenizerFast\n",
        "\n",
        "tokenizer = BertTokenizerFast.from_pretrained(\"bert-base-cased\") #uncased->cased\n",
        "tokenizer.bos_token = tokenizer.cls_token\n",
        "tokenizer.eos_token = tokenizer.sep_token"
      ],
      "execution_count": null,
      "outputs": []
    },
    {
      "cell_type": "markdown",
      "metadata": {
        "id": "ai_fDhcGkjqn"
      },
      "source": [
        "Get dataset"
      ]
    },
    {
      "cell_type": "markdown",
      "metadata": {
        "id": "m03PooYYoHA-"
      },
      "source": [
        "put your path below"
      ]
    },
    {
      "cell_type": "code",
      "metadata": {
        "id": "Vb1H3RD5lxW6"
      },
      "source": [
        "path_to_formal_train_split=\"/content/drive/MyDrive/CityU/FYP/Formal_Classifier_Training_Corpus/EMFR_formal_train\"\n",
        "path_to_informal_train_split=\"/content/drive/MyDrive/CityU/FYP/Formal_Classifier_Training_Corpus/EMFR_informal_train\"\n",
        "\n",
        "path_to_formal_val_split=\"/content/drive/MyDrive/CityU/FYP/Formal_Classifier_Training_Corpus/EMFR_formal_eval\"\n",
        "path_to_informal_val_split=\"/content/drive/MyDrive/CityU/FYP/Formal_Classifier_Training_Corpus/EMFR_informal_eval\""
      ],
      "execution_count": null,
      "outputs": []
    },
    {
      "cell_type": "code",
      "metadata": {
        "id": "ZR1prE5Gl__s"
      },
      "source": [
        "formal_train_split=open(path_to_formal_train_split,\"r\")\n",
        "formal_train_lines=formal_train_split.readlines()\n",
        "\n",
        "informal_train_split=open(path_to_informal_train_split,\"r\")\n",
        "informal_train_lines=informal_train_split.readlines()\n",
        "\n",
        "formal_val_split=open(path_to_formal_val_split,\"r\")\n",
        "formal_val_lines=formal_val_split.readlines()\n",
        "\n",
        "informal_val_split=open(path_to_informal_val_split,\"r\")\n",
        "informal_val_lines=informal_val_split.readlines()"
      ],
      "execution_count": null,
      "outputs": []
    },
    {
      "cell_type": "code",
      "metadata": {
        "colab": {
          "base_uri": "https://localhost:8080/"
        },
        "id": "_gJlgsxKJG-G",
        "outputId": "69829ed0-ebe3-418f-f536-5e5d3ae70084"
      },
      "source": [
        "print(len(formal_train_lines))\n",
        "print(len(formal_val_lines))"
      ],
      "execution_count": null,
      "outputs": [
        {
          "output_type": "stream",
          "text": [
            "95056\n",
            "9506\n"
          ],
          "name": "stdout"
        }
      ]
    },
    {
      "cell_type": "code",
      "metadata": {
        "id": "lwRb90K2l_N5"
      },
      "source": [
        "from datasets import Dataset\n",
        "\n",
        "train_data_map={\"id\":[],\"formal\":[],\"informal\":[]}\n",
        "for i in range(0,len(formal_train_lines)): \n",
        "  train_data_map[\"id\"].append(i)\n",
        "  train_data_map[\"formal\"].append(formal_train_lines[i])\n",
        "  train_data_map[\"informal\"].append(informal_train_lines[i])\n",
        "  \n",
        "train_data=Dataset.from_dict(train_data_map)\n",
        "\n",
        "val_data_map={\"id\":[],\"formal\":[],\"informal\":[]}\n",
        "for i in range(0,len(formal_val_lines)): \n",
        "  val_data_map[\"id\"].append(i)\n",
        "  val_data_map[\"formal\"].append(formal_val_lines[i])\n",
        "  val_data_map[\"informal\"].append(informal_val_lines[i])\n",
        "\n",
        "val_data=Dataset.from_dict(val_data_map)"
      ],
      "execution_count": null,
      "outputs": []
    },
    {
      "cell_type": "markdown",
      "metadata": {
        "id": "dyM7HLqBmv7w"
      },
      "source": [
        "Process data to model inputs"
      ]
    },
    {
      "cell_type": "code",
      "metadata": {
        "id": "M6wir8wcm01I"
      },
      "source": [
        "batch_size=16  # 4, the max size colab can handle Original: batch size: 4; max length= 512\n",
        "encoder_max_length=128\n",
        "decoder_max_length=128"
      ],
      "execution_count": null,
      "outputs": []
    },
    {
      "cell_type": "code",
      "metadata": {
        "id": "pOVsdUojm4So"
      },
      "source": [
        "def process_data_to_model_inputs(batch):\n",
        "  # tokenize the inputs and labels\n",
        "  #inputs = tokenizer(batch[\"informal\"], padding=\"max_length\", truncation=True, max_length=encoder_max_length)\n",
        "  #outputs = tokenizer(batch[\"formal\"], padding=\"max_length\", truncation=True, max_length=decoder_max_length)\n",
        "\n",
        "  # try to build a formal -> informal\n",
        "  inputs = tokenizer(batch[\"informal\"], padding=\"max_length\", truncation=True, max_length=encoder_max_length)\n",
        "  outputs = tokenizer(batch[\"formal\"], padding=\"max_length\", truncation=True, max_length=decoder_max_length)\n",
        "\n",
        "  batch[\"input_ids\"] = inputs.input_ids\n",
        "  batch[\"attention_mask\"] = inputs.attention_mask\n",
        "  batch[\"decoder_input_ids\"] = outputs.input_ids\n",
        "  batch[\"decoder_attention_mask\"] = outputs.attention_mask\n",
        "  batch[\"labels\"] = outputs.input_ids.copy()\n",
        "\n",
        "  # because BERT automatically shifts the labels, the labels correspond exactly to `decoder_input_ids`. \n",
        "  # We have to make sure that the PAD token is ignored\n",
        "  batch[\"labels\"] = [[-100 if token == tokenizer.pad_token_id else token for token in labels] for labels in batch[\"labels\"]]\n",
        "\n",
        "  return batch"
      ],
      "execution_count": null,
      "outputs": []
    },
    {
      "cell_type": "code",
      "metadata": {
        "id": "efw7M8o3S7iA"
      },
      "source": [
        "from transformers import BertTokenizerFast\n",
        "\n",
        "tokenizer = BertTokenizerFast.from_pretrained(\"bert-base-cased\")#uncased->cased\n",
        "tokenizer.bos_token = tokenizer.cls_token\n",
        "tokenizer.eos_token = tokenizer.sep_token"
      ],
      "execution_count": null,
      "outputs": []
    },
    {
      "cell_type": "code",
      "metadata": {
        "id": "6EIUotMKnQdY"
      },
      "source": [
        "\n",
        "train_data = train_data.map(\n",
        "    process_data_to_model_inputs, \n",
        "    batched=True, \n",
        "    batch_size=batch_size, \n",
        "    remove_columns=[\"id\", \"formal\", \"informal\"]\n",
        ")\n",
        "train_data.set_format(\n",
        "    type=\"torch\", columns=[\"input_ids\", \"attention_mask\", \"decoder_input_ids\", \"decoder_attention_mask\", \"labels\"],\n",
        ")\n",
        "print(train_data)\n",
        "\n",
        "\n",
        "val_data = val_data.map(\n",
        "    process_data_to_model_inputs, \n",
        "    batched=True, \n",
        "    batch_size=batch_size, \n",
        "    remove_columns=[\"id\", \"formal\", \"informal\"]\n",
        ")\n",
        "val_data.set_format(\n",
        "    type=\"torch\", columns=[\"input_ids\", \"attention_mask\", \"decoder_input_ids\", \"decoder_attention_mask\", \"labels\"],\n",
        ")"
      ],
      "execution_count": null,
      "outputs": []
    },
    {
      "cell_type": "markdown",
      "metadata": {
        "id": "9wp3Ea4ywuQv"
      },
      "source": [
        "Warm-starting the Encoder-Decoder Model"
      ]
    },
    {
      "cell_type": "code",
      "metadata": {
        "id": "fVX7ClBFww3m"
      },
      "source": [
        "from transformers import EncoderDecoderModel\n",
        "#if you want to start from a checkpoint: \n",
        "#bert2bert=EncoderDecoderModel.from_pretrained(\"/content/drive/MyDrive/CityU/FYP/Models/Formal_Rewriter/Epoch_3\")\n",
        "#if you want to build one from start:\n",
        "bert2bert = EncoderDecoderModel.from_encoder_decoder_pretrained(\"bert-base-cased\", \"bert-base-cased\") #uncased->cased?"
      ],
      "execution_count": null,
      "outputs": []
    },
    {
      "cell_type": "code",
      "metadata": {
        "id": "ZInX8uPQw5kw"
      },
      "source": [
        "# set special tokens\n",
        "bert2bert.config.decoder_start_token_id = tokenizer.bos_token_id\n",
        "bert2bert.config.eos_token_id = tokenizer.eos_token_id\n",
        "bert2bert.config.pad_token_id = tokenizer.pad_token_id\n",
        "\n",
        "# sensible parameters for beam search\n",
        "bert2bert.config.vocab_size = bert2bert.config.decoder.vocab_size\n",
        "bert2bert.config.max_length = 128\n",
        "bert2bert.config.min_length = 2 \n",
        "bert2bert.config.no_repeat_ngram_size = 3\n",
        "bert2bert.config.early_stopping = True\n",
        "bert2bert.config.length_penalty = 2.0\n",
        "bert2bert.config.num_beams = 4"
      ],
      "execution_count": null,
      "outputs": []
    },
    {
      "cell_type": "markdown",
      "metadata": {
        "id": "P39CO7ZGw-FW"
      },
      "source": [
        "Fine-Tuning Warm-Started Encoder-Decoder Models"
      ]
    },
    {
      "cell_type": "code",
      "metadata": {
        "id": "qp6HKlTKxDxm"
      },
      "source": [
        "%%capture\n",
        "#!rm seq2seq_trainer.py\n",
        "#!wget https://raw.githubusercontent.com/huggingface/transformers/master/examples/seq2seq/seq2seq_trainer.py\n",
        "\n",
        "!pip install git-python==1.0.3\n",
        "!pip install sacrebleu==1.4.12\n",
        "!pip install rouge_score"
      ],
      "execution_count": null,
      "outputs": []
    },
    {
      "cell_type": "code",
      "metadata": {
        "id": "7OBZljE3xX-O"
      },
      "source": [
        "#from seq2seq_trainer import Seq2SeqTrainer\n",
        "from transformers import Seq2SeqTrainingArguments, Seq2SeqTrainer #newly added\n",
        "from transformers import TrainingArguments\n",
        "from dataclasses import dataclass, field\n",
        "from typing import Optional"
      ],
      "execution_count": null,
      "outputs": []
    },
    {
      "cell_type": "code",
      "metadata": {
        "id": "051fZ3YExbUm"
      },
      "source": [
        "@dataclass\n",
        "class Seq2SeqTrainingArguments(TrainingArguments):\n",
        "    label_smoothing: Optional[float] = field(\n",
        "        default=0.0, metadata={\"help\": \"The label smoothing epsilon to apply (if not zero).\"}\n",
        "    )\n",
        "    sortish_sampler: bool = field(default=False, metadata={\"help\": \"Whether to SortishSamler or not.\"})\n",
        "    predict_with_generate: bool = field(\n",
        "        default=False, metadata={\"help\": \"Whether to use generate to calculate generative metrics (ROUGE, BLEU).\"}\n",
        "    )\n",
        "    adafactor: bool = field(default=False, metadata={\"help\": \"whether to use adafactor\"})\n",
        "    encoder_layerdrop: Optional[float] = field(\n",
        "        default=None, metadata={\"help\": \"Encoder layer dropout probability. Goes into model.config.\"}\n",
        "    )\n",
        "    decoder_layerdrop: Optional[float] = field(\n",
        "        default=None, metadata={\"help\": \"Decoder layer dropout probability. Goes into model.config.\"}\n",
        "    )\n",
        "    dropout: Optional[float] = field(default=None, metadata={\"help\": \"Dropout probability. Goes into model.config.\"})\n",
        "    attention_dropout: Optional[float] = field(\n",
        "        default=None, metadata={\"help\": \"Attention dropout probability. Goes into model.config.\"}\n",
        "    )\n",
        "    lr_scheduler: Optional[str] = field(\n",
        "        default=\"linear\", metadata={\"help\": f\"Which lr scheduler to use.\"}\n",
        "    )"
      ],
      "execution_count": null,
      "outputs": []
    },
    {
      "cell_type": "code",
      "metadata": {
        "id": "-LGusQyczL7j",
        "colab": {
          "base_uri": "https://localhost:8080/",
          "height": 67,
          "referenced_widgets": [
            "40a07123c0f84332bdfc1aabbd99bce5",
            "3299a99ef9404cac9f09e8554a582b1d",
            "05097454010f4a22912e86bea7e0db14",
            "6fea8f3b6cea45e8a85e07c35de3a589",
            "b1036f6f6f7046b2850fd6c3263b8a2f",
            "c0d474ff078448e9b37545196c8a29ed",
            "3ad49eadec5b4dd1b6cbc736d7209dcc",
            "8dd22fcf7fd54a139bcbea2ae2bdd85a"
          ]
        },
        "outputId": "18b37fc1-e2bc-4dd8-c544-8c58eb44be38"
      },
      "source": [
        "# load rouge for validation\n",
        "rouge = datasets.load_metric(\"rouge\")\n",
        "def compute_metrics(pred):\n",
        "    labels_ids = pred.label_ids\n",
        "    pred_ids = pred.predictions\n",
        "\n",
        "    # all unnecessary tokens are removed\n",
        "    pred_str = tokenizer.batch_decode(pred_ids, skip_special_tokens=True)\n",
        "    labels_ids[labels_ids == -100] = tokenizer.pad_token_id\n",
        "    label_str = tokenizer.batch_decode(labels_ids, skip_special_tokens=True)\n",
        "\n",
        "    rouge_output = rouge.compute(predictions=pred_str, references=label_str, rouge_types=[\"rouge2\"])[\"rouge2\"].mid\n",
        "\n",
        "    return {\n",
        "        \"rouge2_precision\": round(rouge_output.precision, 4),\n",
        "        \"rouge2_recall\": round(rouge_output.recall, 4),\n",
        "        \"rouge2_fmeasure\": round(rouge_output.fmeasure, 4),\n",
        "    }"
      ],
      "execution_count": null,
      "outputs": [
        {
          "output_type": "display_data",
          "data": {
            "application/vnd.jupyter.widget-view+json": {
              "model_id": "40a07123c0f84332bdfc1aabbd99bce5",
              "version_minor": 0,
              "version_major": 2
            },
            "text/plain": [
              "HBox(children=(FloatProgress(value=0.0, description='Downloading', max=1656.0, style=ProgressStyle(description…"
            ]
          },
          "metadata": {
            "tags": []
          }
        },
        {
          "output_type": "stream",
          "text": [
            "\n"
          ],
          "name": "stdout"
        }
      ]
    },
    {
      "cell_type": "markdown",
      "metadata": {
        "id": "sGTo_hJpxfqG"
      },
      "source": [
        "Training <br>\n",
        "note that downloading checkpoint from colab to local takes roughly 40 mins"
      ]
    },
    {
      "cell_type": "code",
      "metadata": {
        "id": "ZdCfpaQ0yBYf"
      },
      "source": [
        "# set training arguments - these params are not really tuned, feel free to change\n",
        "training_args = Seq2SeqTrainingArguments(\n",
        "    output_dir=\"./\",#maybe ./ is better, cause directly linking to cloud will cause trash overflow\n",
        "    per_device_train_batch_size=batch_size,\n",
        "    per_device_eval_batch_size=batch_size,\n",
        "    predict_with_generate=True,\n",
        "    do_train=True,\n",
        "    do_eval=True,\n",
        "    evaluation_strategy=\"steps\", #\"no\", \"steps\", \"epochs\"\n",
        "    logging_steps=5941,  #2, set to 1000 for full training\n",
        "    save_steps=5941,  #16 set to 500 for full training\n",
        "    eval_steps=5941,  #4 set to 8000 for full training\n",
        "    warmup_steps=200,  #1 set to 2000 for full training\n",
        "    #max_steps=16, # delete for full training\n",
        "    overwrite_output_dir=True,\n",
        "    save_total_limit=3,\n",
        "    fp16=True, \n",
        "    num_train_epochs=2 #################################################### 2 Dec 30\n",
        ")\n",
        "\n",
        "# instantiate trainer\n",
        "trainer = Seq2SeqTrainer(\n",
        "    model=bert2bert,\n",
        "    args=training_args,\n",
        "    compute_metrics=compute_metrics,\n",
        "    train_dataset=train_data,\n",
        "    eval_dataset=val_data,\n",
        "    tokenizer=tokenizer\n",
        ")\n",
        "trainer.train()"
      ],
      "execution_count": null,
      "outputs": []
    },
    {
      "cell_type": "code",
      "metadata": {
        "id": "H7NOCSTkzDk9"
      },
      "source": [
        "demo_sentence=\"how's the movieeee?\"\n",
        "demo_input=tokenizer(demo_sentence, padding=\"max_length\", truncation=True, max_length=512, return_tensors=\"pt\")\n",
        "demo_ids=demo_input.input_ids.to(\"cuda\")\n",
        "demo_attention_mask=demo_input.attention_mask.to(\"cuda\")\n",
        "\n",
        "outputs=bert2bert.generate(demo_ids)\n",
        "output_str=tokenizer.decode(outputs[0],skip_special_tokens=True)\n",
        "\n",
        "print(output_str)"
      ],
      "execution_count": null,
      "outputs": []
    },
    {
      "cell_type": "markdown",
      "metadata": {
        "id": "51tOlIdHzkmZ"
      },
      "source": [
        "<h1>Tryout</h1>"
      ]
    },
    {
      "cell_type": "code",
      "metadata": {
        "id": "CgGcT3ePst8c"
      },
      "source": [
        "!pip install transformers\n",
        "!pip install datasets==1.0.2\n",
        "\n",
        "import datasets\n",
        "import transformers\n",
        "import torch"
      ],
      "execution_count": null,
      "outputs": []
    },
    {
      "cell_type": "code",
      "metadata": {
        "id": "GR51LluhtYK8",
        "colab": {
          "base_uri": "https://localhost:8080/"
        },
        "outputId": "29b5aa1f-8908-42a0-fecc-b6ac2846f253"
      },
      "source": [
        "from transformers import BertTokenizerFast\n",
        "\n",
        "tokenizer = BertTokenizerFast.from_pretrained(\"bert-base-cased\")\n",
        "tokenizer.bos_token = tokenizer.cls_token\n",
        "tokenizer.eos_token = tokenizer.sep_token"
      ],
      "execution_count": null,
      "outputs": [
        {
          "output_type": "stream",
          "text": [
            "loading file https://huggingface.co/bert-base-cased/resolve/main/vocab.txt from cache at /root/.cache/huggingface/transformers/6508e60ab3c1200bffa26c95f4b58ac6b6d95fba4db1f195f632fa3cd7bc64cc.437aa611e89f6fc6675a049d2b5545390adbc617e7d655286421c191d2be2791\n",
            "loading file https://huggingface.co/bert-base-cased/resolve/main/tokenizer.json from cache at /root/.cache/huggingface/transformers/226a307193a9f4344264cdc76a12988448a25345ba172f2c7421f3b6810fddad.3dab63143af66769bbb35e3811f75f7e16b2320e12b7935e216bd6159ce6d9a6\n",
            "loading file https://huggingface.co/bert-base-cased/resolve/main/added_tokens.json from cache at None\n",
            "loading file https://huggingface.co/bert-base-cased/resolve/main/special_tokens_map.json from cache at None\n",
            "loading file https://huggingface.co/bert-base-cased/resolve/main/tokenizer_config.json from cache at /root/.cache/huggingface/transformers/ec84e86ee39bfe112543192cf981deebf7e6cbe8c91b8f7f8f63c9be44366158.ec5c189f89475aac7d8cbd243960a0655cfadc3d0474da8ff2ed0bf1699c2a5f\n"
          ],
          "name": "stderr"
        }
      ]
    },
    {
      "cell_type": "code",
      "metadata": {
        "id": "qI8wh6fAmfv8"
      },
      "source": [
        "path_to_demo_model=\"/content/drive/MyDrive/CityU/FYP/Mar29Split/EM/checkpoint-8964\""
      ],
      "execution_count": null,
      "outputs": []
    },
    {
      "cell_type": "code",
      "metadata": {
        "id": "cP4SgU-hs-KL"
      },
      "source": [
        "from transformers import EncoderDecoderModel\n",
        "#if you want to start from a checkpoint: \n",
        "demo_model=EncoderDecoderModel.from_pretrained(path_to_demo_model)"
      ],
      "execution_count": null,
      "outputs": []
    },
    {
      "cell_type": "code",
      "metadata": {
        "id": "hQwLt9VQsbru"
      },
      "source": [
        "device=torch.device(\"cuda\" if torch.cuda.is_available() else \"cpu\")\n",
        "demo_model.to(device)"
      ],
      "execution_count": null,
      "outputs": []
    },
    {
      "cell_type": "code",
      "metadata": {
        "id": "nO1hSyA6zmPn"
      },
      "source": [
        "demo_sentence='Lets watcha movie together lol'\n",
        "demo_input=tokenizer(demo_sentence, padding=\"max_length\", truncation=True, max_length=128, return_tensors=\"pt\")\n",
        "demo_ids=demo_input.input_ids.to(\"cuda\")\n",
        "demo_attention_mask=demo_input.attention_mask.to(\"cuda\")\n",
        "\n",
        "outputs=demo_model.generate(demo_ids)\n",
        "output_str=tokenizer.decode(outputs[0],skip_special_tokens=True)\n",
        "\n",
        "print(output_str)"
      ],
      "execution_count": null,
      "outputs": []
    },
    {
      "cell_type": "markdown",
      "metadata": {
        "id": "WPYm5VBrn3P5"
      },
      "source": [
        "Not so sure whether this is a good movie. -> <br>\n",
        "Lets watcha movie together lol-> <br>\n",
        "U r a bad guy. -> <br>\n",
        "U r a badd people"
      ]
    },
    {
      "cell_type": "code",
      "metadata": {
        "id": "to89vIxjM0ll"
      },
      "source": [
        "model.save()"
      ],
      "execution_count": null,
      "outputs": []
    },
    {
      "cell_type": "code",
      "metadata": {
        "id": "Bgplg5VhEhCf"
      },
      "source": [
        "import bisect\n",
        "events_start = [2,3,6,7]\n",
        "events_end = [3,4,7,8]\n",
        "\n",
        "print(\"Head case: \"+str(bisect.bisect_left(events_start, 1)))\n",
        "print(\"On Head case: \"+str(bisect.bisect_left(events_start, 2)))\n",
        "print(\"Middle case: \"+str(bisect.bisect_left(events_start, 4)))\n",
        "print(\"On Tail case: \"+str(bisect.bisect_left(events_start, 7)))\n",
        "print(\"Tail case: \"+str(bisect.bisect_left(events_start, 8)))"
      ],
      "execution_count": null,
      "outputs": []
    },
    {
      "cell_type": "code",
      "metadata": {
        "id": "-V6tf7u2FMDI"
      },
      "source": [
        "import bisect\n",
        "events = [[2,3],[3,4],[6,7],[7,8]]\n",
        "print(\"Head case: \"+str(bisect.bisect_left(events, [1,2])))\n",
        "print(\"On Head case: \"+str(bisect.bisect_left(events, [2,3])))\n",
        "print(\"Middle case: \"+str(bisect.bisect_left(events, [4,5])))\n",
        "print(\"On Tail case: \"+str(bisect.bisect_left(events, [7,8])))\n",
        "print(\"Tail case: \"+str(bisect.bisect_left(events, [8,9])))\n",
        "print(\"Overlap case: \"+str(bisect.bisect_left(events, [4,9])))"
      ],
      "execution_count": null,
      "outputs": []
    }
  ]
}