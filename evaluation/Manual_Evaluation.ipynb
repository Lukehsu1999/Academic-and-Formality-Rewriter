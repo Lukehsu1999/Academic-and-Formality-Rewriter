{
  "nbformat": 4,
  "nbformat_minor": 0,
  "metadata": {
    "colab": {
      "name": "Manual Evaluation.ipynb",
      "provenance": [],
      "mount_file_id": "1TqjmHm2ZamBlWflCH1ZFDGscNsbc57pw",
      "authorship_tag": "ABX9TyPMArmlsY6SmQIgTFe1Z227",
      "include_colab_link": true
    },
    "kernelspec": {
      "name": "python3",
      "display_name": "Python 3"
    },
    "language_info": {
      "name": "python"
    }
  },
  "cells": [
    {
      "cell_type": "markdown",
      "metadata": {
        "id": "view-in-github",
        "colab_type": "text"
      },
      "source": [
        "<a href=\"https://colab.research.google.com/github/Lukehsu1999/Academic-and-Formality-Rewriter/blob/main/evaluation/Manual_Evaluation.ipynb\" target=\"_parent\"><img src=\"https://colab.research.google.com/assets/colab-badge.svg\" alt=\"Open In Colab\"/></a>"
      ]
    },
    {
      "cell_type": "markdown",
      "metadata": {
        "id": "he_Z3VYRaczu"
      },
      "source": [
        "# Sentences"
      ]
    },
    {
      "cell_type": "code",
      "metadata": {
        "id": "O9nLpIl68uXk"
      },
      "source": [
        "set_path = \"EM_test\"\n",
        "test_code = \"EM\"\n",
        "test_full_name = \"Entertainment_Music\"  #\"Entertainment_Music\" \"Family_Relationships\""
      ],
      "execution_count": null,
      "outputs": []
    },
    {
      "cell_type": "markdown",
      "metadata": {
        "id": "7y-NtDFX3yRs"
      },
      "source": [
        "Get Model Output"
      ]
    },
    {
      "cell_type": "code",
      "metadata": {
        "id": "Ds-w37oq8rWM"
      },
      "source": [
        "path_to_EMFRmodel_output = \"/content/drive/MyDrive/CityU/FYP/Model_Outputs/\"+set_path+\"/EMFR_model_3pochs_\"+test_code+\"_test\"\n",
        "EMFRmodel_output_file = open(path_to_EMFRmodel_output, \"r\")\n",
        "EMFRmodel_output_lines = EMFRmodel_output_file.readlines()\n",
        "\n",
        "path_to_EMmodel_output = \"/content/drive/MyDrive/CityU/FYP/Model_Outputs/\"+set_path+\"/EM_model_3pochs_\"+test_code+\"_test\"\n",
        "EMmodel_output_file = open(path_to_EMmodel_output, \"r\")\n",
        "EMmodel_output_lines = EMmodel_output_file.readlines()\n",
        "\n",
        "path_to_FRmodel_output = \"/content/drive/MyDrive/CityU/FYP/Model_Outputs/\"+set_path+\"/FR_model_3pochs_\"+test_code+\"_test\"\n",
        "FRmodel_output_file = open(path_to_FRmodel_output, \"r\")\n",
        "FRmodel_output_lines = FRmodel_output_file.readlines()\n",
        "\n",
        "path_to_nmtbaselinemodel_output = \"/content/drive/MyDrive/CityU/FYP/Model_Outputs/\"+set_path+\"/formal.nmt_baseline\"\n",
        "nmtbaselinemodel_output_file = open(path_to_nmtbaselinemodel_output, \"r\")\n",
        "nmtbaselinemodel_output_lines = nmtbaselinemodel_output_file.readlines()\n",
        "\n",
        "path_to_nmtcombinedmodel_output = \"/content/drive/MyDrive/CityU/FYP/Model_Outputs/\"+set_path+\"/formal.nmt_combined\"\n",
        "nmtcombinedmodel_output_file = open(path_to_nmtcombinedmodel_output, \"r\")\n",
        "nmtcombinedmodel_output_lines = nmtcombinedmodel_output_file.readlines()\n",
        "\n",
        "path_to_nmtcopymodel_output = \"/content/drive/MyDrive/CityU/FYP/Model_Outputs/\"+set_path+\"/formal.nmt_copy\"\n",
        "nmtcopymodel_output_file = open(path_to_nmtcopymodel_output, \"r\")\n",
        "nmtcopymodel_output_lines = nmtcopymodel_output_file.readlines()\n",
        "\n",
        "path_to_pbmtmodel_output = \"/content/drive/MyDrive/CityU/FYP/Model_Outputs/\"+set_path+\"/formal.pbmt\"\n",
        "pbmtmodel_output_file = open(path_to_pbmtmodel_output, \"r\")\n",
        "pbmtmodel_output_lines = pbmtmodel_output_file.readlines()\n",
        "\n",
        "path_to_rulebasedmodel_output = \"/content/drive/MyDrive/CityU/FYP/Model_Outputs/\"+set_path+\"/formal.rule_based\"\n",
        "rulebasedmodel_output_file = open(path_to_rulebasedmodel_output, \"r\")\n",
        "rulebasedmodel_output_lines = rulebasedmodel_output_file.readlines()"
      ],
      "execution_count": null,
      "outputs": []
    },
    {
      "cell_type": "code",
      "metadata": {
        "colab": {
          "base_uri": "https://localhost:8080/"
        },
        "id": "ZnCytTOI8-5G",
        "outputId": "8cd3a5c3-f47e-43e6-fca8-9f082fd81286"
      },
      "source": [
        "print(len(EMFRmodel_output_lines))"
      ],
      "execution_count": null,
      "outputs": [
        {
          "output_type": "stream",
          "text": [
            "1416\n"
          ],
          "name": "stdout"
        }
      ]
    },
    {
      "cell_type": "code",
      "metadata": {
        "id": "idbZZ38__Ge9"
      },
      "source": [
        "all_set = {\n",
        "    \"EMFR\":EMFRmodel_output_lines,\n",
        "    \"EM\":EMmodel_output_lines,\n",
        "    \"FR\":FRmodel_output_lines,\n",
        "    \"nmtbaseline\":nmtbaselinemodel_output_lines,\n",
        "    \"nmtcombined\":nmtcombinedmodel_output_lines,\n",
        "    \"nmtcopy\":nmtcopymodel_output_lines,\n",
        "    \"pbmt\":pbmtmodel_output_lines,\n",
        "    \"rulebased\":rulebasedmodel_output_lines\n",
        "}"
      ],
      "execution_count": null,
      "outputs": []
    },
    {
      "cell_type": "markdown",
      "metadata": {
        "id": "clG-4rgJ3vgv"
      },
      "source": [
        "Get Model Input"
      ]
    },
    {
      "cell_type": "code",
      "metadata": {
        "colab": {
          "base_uri": "https://localhost:8080/"
        },
        "id": "AURSt_y8zdLU",
        "outputId": "a20f07ce-e26e-4cb0-8b3f-72e4830b7d15"
      },
      "source": [
        "path_to_model_input = \"/content/drive/MyDrive/CityU/FYP/Datasets/GYAFC/GYAFC_Corpus/\"+test_full_name+\"/test/informal\"\n",
        "model_input_file = open(path_to_model_input, \"r\")\n",
        "model_input_lines = model_input_file.readlines()\n",
        "print(len(model_input_lines))"
      ],
      "execution_count": null,
      "outputs": [
        {
          "output_type": "stream",
          "text": [
            "1416\n"
          ],
          "name": "stdout"
        }
      ]
    },
    {
      "cell_type": "code",
      "metadata": {
        "id": "LRDTgZ_hGLAY"
      },
      "source": [
        "all_set[\"input\"] = model_input_lines"
      ],
      "execution_count": null,
      "outputs": []
    },
    {
      "cell_type": "code",
      "metadata": {
        "colab": {
          "base_uri": "https://localhost:8080/"
        },
        "id": "Q1Uvl249GP9u",
        "outputId": "f73a07cd-eb4b-4213-c4e7-f12cb38c5c7b"
      },
      "source": [
        "print(all_set.keys())"
      ],
      "execution_count": null,
      "outputs": [
        {
          "output_type": "stream",
          "text": [
            "dict_keys(['EMFR', 'EM', 'FR', 'nmtbaseline', 'nmtcombined', 'nmtcopy', 'pbmt', 'rulebased', 'input'])\n"
          ],
          "name": "stdout"
        }
      ]
    },
    {
      "cell_type": "markdown",
      "metadata": {
        "id": "12xYOYRU5W2j"
      },
      "source": [
        "Get reference sentences"
      ]
    },
    {
      "cell_type": "code",
      "metadata": {
        "colab": {
          "base_uri": "https://localhost:8080/"
        },
        "id": "XxIs1yCW5Z_5",
        "outputId": "be814ca6-4522-4098-a733-3931b1255e87"
      },
      "source": [
        "path_to_references = [\"/content/drive/MyDrive/CityU/FYP/Model_Outputs/\"+set_path+\"/references/formal.ref0\",\n",
        "            \"/content/drive/MyDrive/CityU/FYP/Model_Outputs/\"+set_path+\"/references/formal.ref1\",\n",
        "            \"/content/drive/MyDrive/CityU/FYP/Model_Outputs/\"+set_path+\"/references/formal.ref2\",\n",
        "            \"/content/drive/MyDrive/CityU/FYP/Model_Outputs/\"+set_path+\"/references/formal.ref3\"]\n",
        "reference_lines = []\n",
        "for i in range(len(path_to_references)):\n",
        "  temp_ref_file = open(path_to_references[i], \"r\")\n",
        "  temp_ref_lines = temp_ref_file.readlines()\n",
        "  temp_lines = []\n",
        "  for line in temp_ref_lines:\n",
        "    temp_lines.append(line)\n",
        "  reference_lines.append(temp_lines)\n",
        "\n",
        "print(len(reference_lines))\n",
        "print(len(reference_lines[0]))"
      ],
      "execution_count": null,
      "outputs": [
        {
          "output_type": "stream",
          "text": [
            "4\n",
            "1416\n"
          ],
          "name": "stdout"
        }
      ]
    },
    {
      "cell_type": "code",
      "metadata": {
        "id": "-shI-e1KGhgH"
      },
      "source": [
        "all_set[\"ref0\"] = reference_lines[0]\n",
        "all_set[\"ref1\"] = reference_lines[1]\n",
        "all_set[\"ref2\"] = reference_lines[2]\n",
        "all_set[\"ref3\"] = reference_lines[3]"
      ],
      "execution_count": null,
      "outputs": []
    },
    {
      "cell_type": "code",
      "metadata": {
        "id": "x4x-4RoCGsXA"
      },
      "source": [
        "for key in all_set.keys():\n",
        "  print(key)\n",
        "  print(len(all_set[key]))"
      ],
      "execution_count": null,
      "outputs": []
    },
    {
      "cell_type": "markdown",
      "metadata": {
        "id": "XOn4aafxaitP"
      },
      "source": [
        "# Evaluations"
      ]
    },
    {
      "cell_type": "markdown",
      "metadata": {
        "id": "MbpzLYlmJhpQ"
      },
      "source": [
        "Get Formality Classification Results"
      ]
    },
    {
      "cell_type": "code",
      "metadata": {
        "colab": {
          "base_uri": "https://localhost:8080/"
        },
        "id": "bo4BXVmMJ7zB",
        "outputId": "70890069-f441-410b-f434-6156aabd47da"
      },
      "source": [
        "path_to_FCresult_dict = \"/content/drive/MyDrive/CityU/FYP/Evaluation/Classification_Results/Formal_Classification/\"+test_code+\"_results.json\"\n",
        "\n",
        "# josn load\n",
        "import json\n",
        "with open(path_to_FCresult_dict, 'r') as fcfp:\n",
        "    FC_result_dict = json.load(fcfp)\n",
        "\n",
        "print(FC_result_dict.keys())"
      ],
      "execution_count": null,
      "outputs": [
        {
          "output_type": "stream",
          "text": [
            "dict_keys(['EMFR', 'EM', 'FR', 'nmtbaseline', 'nmtcombined', 'nmtcopy', 'pbmt', 'rulebased', 'ref0', 'ref1', 'ref2', 'ref3'])\n"
          ],
          "name": "stdout"
        }
      ]
    },
    {
      "cell_type": "code",
      "metadata": {
        "colab": {
          "base_uri": "https://localhost:8080/"
        },
        "id": "8E2jsHYMebZV",
        "outputId": "a987efbc-a8dc-40a9-c095-d7048c079d7f"
      },
      "source": [
        "print(FC_result_dict[\"EMFR\"][0:20])"
      ],
      "execution_count": null,
      "outputs": [
        {
          "output_type": "stream",
          "text": [
            "['tf.Tensor([[0.69081926 0.3091807 ]], shape=(1, 2), dtype=float32)', 'tf.Tensor([[2.3516946e-04 9.9976486e-01]], shape=(1, 2), dtype=float32)', 'tf.Tensor([[0.017417   0.98258305]], shape=(1, 2), dtype=float32)', 'tf.Tensor([[3.0193877e-04 9.9969804e-01]], shape=(1, 2), dtype=float32)', 'tf.Tensor([[0.00226283 0.99773717]], shape=(1, 2), dtype=float32)', 'tf.Tensor([[8.5682265e-04 9.9914312e-01]], shape=(1, 2), dtype=float32)', 'tf.Tensor([[0.11004686 0.8899532 ]], shape=(1, 2), dtype=float32)', 'tf.Tensor([[0.00194388 0.9980562 ]], shape=(1, 2), dtype=float32)', 'tf.Tensor([[0.742284   0.25771597]], shape=(1, 2), dtype=float32)', 'tf.Tensor([[0.02950102 0.970499  ]], shape=(1, 2), dtype=float32)', 'tf.Tensor([[0.0190705 0.9809295]], shape=(1, 2), dtype=float32)', 'tf.Tensor([[0.2783649 0.7216351]], shape=(1, 2), dtype=float32)', 'tf.Tensor([[4.9357535e-04 9.9950647e-01]], shape=(1, 2), dtype=float32)', 'tf.Tensor([[3.5575152e-04 9.9964428e-01]], shape=(1, 2), dtype=float32)', 'tf.Tensor([[0.21515566 0.78484434]], shape=(1, 2), dtype=float32)', 'tf.Tensor([[0.00599883 0.9940011 ]], shape=(1, 2), dtype=float32)', 'tf.Tensor([[0.00458737 0.99541265]], shape=(1, 2), dtype=float32)', 'tf.Tensor([[0.4750262 0.5249738]], shape=(1, 2), dtype=float32)', 'tf.Tensor([[0.40153676 0.59846324]], shape=(1, 2), dtype=float32)', 'tf.Tensor([[0.00177304 0.99822694]], shape=(1, 2), dtype=float32)']\n"
          ],
          "name": "stdout"
        }
      ]
    },
    {
      "cell_type": "markdown",
      "metadata": {
        "id": "xcdYirkFK6YL"
      },
      "source": [
        "Get Academic Classification Results"
      ]
    },
    {
      "cell_type": "code",
      "metadata": {
        "colab": {
          "base_uri": "https://localhost:8080/"
        },
        "id": "CpVztaNPLVSG",
        "outputId": "5a9540e7-9bf1-4606-f555-8a91011be06d"
      },
      "source": [
        "path_to_ACresult_dict = \"/content/drive/MyDrive/CityU/FYP/Evaluation/Classification_Results/Academic_Classification/\"+test_code+\"_results.json\"\n",
        "\n",
        "# josn load\n",
        "import json\n",
        "with open(path_to_ACresult_dict, 'r') as acfp:\n",
        "    AC_result_dict = json.load(acfp)\n",
        "\n",
        "print(AC_result_dict.keys())"
      ],
      "execution_count": null,
      "outputs": [
        {
          "output_type": "stream",
          "text": [
            "dict_keys(['EMFR', 'EM', 'FR', 'nmtbaseline', 'nmtcombined', 'nmtcopy', 'pbmt', 'rulebased', 'ref0', 'ref1', 'ref2', 'ref3'])\n"
          ],
          "name": "stdout"
        }
      ]
    },
    {
      "cell_type": "code",
      "metadata": {
        "colab": {
          "base_uri": "https://localhost:8080/"
        },
        "id": "Ks899oV-euYT",
        "outputId": "736e9313-addd-495c-91d2-92086aba88d1"
      },
      "source": [
        "print(AC_result_dict[\"EMFR\"][0:20])"
      ],
      "execution_count": null,
      "outputs": [
        {
          "output_type": "stream",
          "text": [
            "['tf.Tensor([[0.38465795 0.6153421 ]], shape=(1, 2), dtype=float32)', 'tf.Tensor([[1.4582198e-04 9.9985421e-01]], shape=(1, 2), dtype=float32)', 'tf.Tensor([[0.06609886 0.93390113]], shape=(1, 2), dtype=float32)', 'tf.Tensor([[0.00103276 0.9989673 ]], shape=(1, 2), dtype=float32)', 'tf.Tensor([[0.00792496 0.9920751 ]], shape=(1, 2), dtype=float32)', 'tf.Tensor([[0.00193212 0.9980679 ]], shape=(1, 2), dtype=float32)', 'tf.Tensor([[0.26433358 0.73566645]], shape=(1, 2), dtype=float32)', 'tf.Tensor([[9.7452092e-04 9.9902546e-01]], shape=(1, 2), dtype=float32)', 'tf.Tensor([[0.8148307  0.18516932]], shape=(1, 2), dtype=float32)', 'tf.Tensor([[0.01175569 0.9882443 ]], shape=(1, 2), dtype=float32)', 'tf.Tensor([[0.00176565 0.9982343 ]], shape=(1, 2), dtype=float32)', 'tf.Tensor([[0.09618385 0.90381616]], shape=(1, 2), dtype=float32)', 'tf.Tensor([[8.840894e-04 9.991159e-01]], shape=(1, 2), dtype=float32)', 'tf.Tensor([[1.4691967e-04 9.9985301e-01]], shape=(1, 2), dtype=float32)', 'tf.Tensor([[0.18104175 0.8189582 ]], shape=(1, 2), dtype=float32)', 'tf.Tensor([[0.01381997 0.98618   ]], shape=(1, 2), dtype=float32)', 'tf.Tensor([[0.0029356 0.9970644]], shape=(1, 2), dtype=float32)', 'tf.Tensor([[0.49723953 0.50276047]], shape=(1, 2), dtype=float32)', 'tf.Tensor([[0.48882157 0.5111784 ]], shape=(1, 2), dtype=float32)', 'tf.Tensor([[0.00495884 0.9950412 ]], shape=(1, 2), dtype=float32)']\n"
          ],
          "name": "stdout"
        }
      ]
    },
    {
      "cell_type": "markdown",
      "metadata": {
        "id": "X0bXm2zGeJHH"
      },
      "source": [
        "Get Language Tool Python Results"
      ]
    },
    {
      "cell_type": "code",
      "metadata": {
        "id": "Z963nYfGeS4b"
      },
      "source": [
        "path_to_Grammar_Score = \"/content/drive/MyDrive/CityU/FYP/Evaluation/Language_Tool_Python_Results/\"+test_code+\"_Grammar_Score_dict.json\"\n",
        "path_to_Grammar_Match = \"/content/drive/MyDrive/CityU/FYP/Evaluation/Language_Tool_Python_Results/\"+test_code+\"_Grammar_Match_dict.json\"\n",
        "\n",
        "with open(path_to_Grammar_Score, 'r') as gsfp:\n",
        "  Grammar_score_dict = json.load(gsfp)\n",
        "with open(path_to_Grammar_Match, 'r') as gmfp:\n",
        "  Grammar_match_dict = json.load(gmfp)"
      ],
      "execution_count": null,
      "outputs": []
    },
    {
      "cell_type": "code",
      "metadata": {
        "colab": {
          "base_uri": "https://localhost:8080/"
        },
        "id": "JuhfygH2fkir",
        "outputId": "a1967665-8390-45a6-8dc5-6feb526f2305"
      },
      "source": [
        "print(Grammar_score_dict.keys())\n",
        "print(Grammar_score_dict[\"EMFR\"][0:20])"
      ],
      "execution_count": null,
      "outputs": [
        {
          "output_type": "stream",
          "text": [
            "dict_keys(['EMFR', 'EM', 'FR', 'nmtbaseline', 'nmtcombined', 'nmtcopy', 'pbmt', 'rulebased', 'ref0', 'ref1', 'ref2', 'ref3'])\n",
            "[1.0, 0.8421052631578947, 1.0, 1.0, 0.9523809523809523, 1.0, 1.0, 1.0, 1.0, 1.0, 1.0, 1.0, 1.0, 1.0, 1.0, 1.0, 0.9285714285714286, 1.0, 1.0, 1.0]\n"
          ],
          "name": "stdout"
        }
      ]
    },
    {
      "cell_type": "code",
      "metadata": {
        "colab": {
          "base_uri": "https://localhost:8080/"
        },
        "id": "XEnZRVd_f2Ws",
        "outputId": "afc11364-59f3-4696-a285-7c130c98c459"
      },
      "source": [
        "print(Grammar_match_dict.keys())\n",
        "print(Grammar_match_dict[\"EMFR\"][0:20])"
      ],
      "execution_count": null,
      "outputs": [
        {
          "output_type": "stream",
          "text": [
            "dict_keys(['EMFR', 'EM', 'FR', 'nmtbaseline', 'nmtcombined', 'nmtcopy', 'pbmt', 'rulebased', 'ref0', 'ref1', 'ref2', 'ref3'])\n",
            "['[]', \"[Match({'ruleId': 'MORFOLOGIK_RULE_EN_US', 'message': 'Possible spelling mistake found.', 'replacements': ['Aspen ado'], 'offsetInContext': 0, 'context': 'Aspenado colora has the best music festivals, yo...', 'offset': 0, 'errorLength': 8, 'category': 'TYPOS', 'ruleIssueType': 'misspelling', 'sentence': 'Aspenado colora has the best music festivals, you will be able to spend time on the moutians.'}), Match({'ruleId': 'MORFOLOGIK_RULE_EN_US', 'message': 'Possible spelling mistake found.', 'replacements': ['color', 'colors', 'color a', 'Coloma'], 'offsetInContext': 9, 'context': 'Aspenado colora has the best music festivals, you will ...', 'offset': 9, 'errorLength': 6, 'category': 'TYPOS', 'ruleIssueType': 'misspelling', 'sentence': 'Aspenado colora has the best music festivals, you will be able to spend time on the moutians.'}), Match({'ruleId': 'MORFOLOGIK_RULE_EN_US', 'message': 'Possible spelling mistake found.', 'replacements': ['mountains', 'motions', 'Martians', 'martians'], 'offsetInContext': 43, 'context': '..., you will be able to spend time on the moutians. ', 'offset': 84, 'errorLength': 8, 'category': 'TYPOS', 'ruleIssueType': 'misspelling', 'sentence': 'Aspenado colora has the best music festivals, you will be able to spend time on the moutians.'})]\", '[]', '[]', \"[Match({'ruleId': 'DASH_RULE', 'message': 'Consider using an m-dash if you do not want to join two words.', 'replacements': ['—'], 'offsetInContext': 43, 'context': '... and his whole gay group. They give hip - hop a bad name. ', 'offset': 77, 'errorLength': 1, 'category': 'PUNCTUATION', 'ruleIssueType': 'typographical', 'sentence': 'They give hip - hop a bad name.'})]\", '[]', '[]', '[]', '[]', '[]', '[]', '[]', '[]', '[]', '[]', '[]', \"[Match({'ruleId': 'MORFOLOGIK_RULE_EN_US', 'message': 'Possible spelling mistake found.', 'replacements': ['She', 'See', 'Bye', 'Eye', 'Dye', 'Sue', 'Rye', 'SOE', 'SSE', 'Skye', 'Syn', 'SME', 'Aye', 'Lye', 'AYE', 'FYE', 'SAE', 'SE', 'SFE', 'SGE', 'SNE', 'SPE', 'SRE', 'STE', 'SVE', 'SWE', 'SY', 'SYC', 'SYD', 'SYL', 'SYN', 'SYR', 'SYT', 'SYX', 'Se', 'Ste', 'Ye', 'Nye', 'SDE', 'Syd', 'Syed'], 'offsetInContext': 43, 'context': '...o you sit and listen to Locke, Jack, or Sye? ', 'offset': 45, 'errorLength': 3, 'category': 'TYPOS', 'ruleIssueType': 'misspelling', 'sentence': 'Why do you sit and listen to Locke, Jack, or Sye?'})]\", '[]', '[]', '[]']\n"
          ],
          "name": "stdout"
        }
      ]
    },
    {
      "cell_type": "markdown",
      "metadata": {
        "id": "abpnuUST6aaW"
      },
      "source": [
        "# Review results:"
      ]
    },
    {
      "cell_type": "code",
      "metadata": {
        "id": "uNBVbYmvhsuo"
      },
      "source": [
        "def get_certainty_from_tf_string(tf_string):\n",
        "  inner_left_bracket_id = tf_string.index(']')\n",
        "  inner_right_bracket = tf_string.index('[')+1\n",
        "  inner = tf_string[inner_right_bracket+1:inner_left_bracket_id]\n",
        "  #print(inner)\n",
        "  inner_tokens = inner.split()\n",
        "  #print(inner_tokens)\n",
        "  return inner_tokens[1]"
      ],
      "execution_count": null,
      "outputs": []
    },
    {
      "cell_type": "code",
      "metadata": {
        "id": "QU4bv7LIcG2h"
      },
      "source": [
        "def print_idx(id):\n",
        "  print(\"Input: \")\n",
        "  print(\"Sentence: \"+all_set['input'][id])\n",
        "  for k in all_set.keys():\n",
        "    if k == \"input\":\n",
        "      continue\n",
        "    else:\n",
        "      print(\"Model: \"+str(k))\n",
        "      print(\"Sentence: \"+all_set[k][id])\n",
        "      formal_score = float(get_certainty_from_tf_string(FC_result_dict[k][id]))\n",
        "      academic_score = float(get_certainty_from_tf_string(AC_result_dict[k][id]))\n",
        "      print(\"Formality Classification Score: \"+get_certainty_from_tf_string(FC_result_dict[k][id]))\n",
        "      print(\"Academic Classification Score: \"+get_certainty_from_tf_string(AC_result_dict[k][id]))\n",
        "      print(\"Academic Classification Score: \"+AC_result_dict[k][id])\n",
        "      print(\"Grammar Score: \"+str(Grammar_score_dict[k][id]))\n",
        "      print()"
      ],
      "execution_count": null,
      "outputs": []
    },
    {
      "cell_type": "code",
      "metadata": {
        "id": "sPcengoXdMfS"
      },
      "source": [
        "print_idx(96)"
      ],
      "execution_count": null,
      "outputs": []
    },
    {
      "cell_type": "markdown",
      "metadata": {
        "id": "NgUI4LGmf0Lp"
      },
      "source": [
        "# Filter"
      ]
    },
    {
      "cell_type": "code",
      "metadata": {
        "id": "LeDBvEkhjPrV"
      },
      "source": [
        "def get_score(input):\n",
        "  if isinstance(input, str): # for Formality Classification, Academic Classification\n",
        "    return float(get_certainty_from_tf_string(input))\n",
        "  else: # for Grammar Score\n",
        "    return input"
      ],
      "execution_count": null,
      "outputs": []
    },
    {
      "cell_type": "code",
      "metadata": {
        "id": "LCxniLlCf3Ww"
      },
      "source": [
        "def filter_by(score_dict, threshold):\n",
        "  n = len(score_dict[\"EMFR\"])\n",
        "  res_lst = []\n",
        "  for i in range(n):\n",
        "    avg_transformer_score = 0 #EMFR, EM, FR\n",
        "    avg_model_score = 0  # nmt-family, pbmt\n",
        "    avg_reference_score = 0\n",
        "\n",
        "    avg_transformer_score += get_score(score_dict[\"EMFR\"][i])\n",
        "    avg_transformer_score += get_score(score_dict[\"EM\"][i])\n",
        "    avg_transformer_score += get_score(score_dict[\"FR\"][i])\n",
        "    avg_transformer_score /= 3\n",
        "\n",
        "    # 'nmtbaseline', 'nmtcombined', 'nmtcopy', 'pbmt'\n",
        "    avg_model_score += get_score(score_dict[\"nmtbaseline\"][i])\n",
        "    avg_model_score += get_score(score_dict[\"nmtcombined\"][i])\n",
        "    avg_model_score += get_score(score_dict[\"nmtcopy\"][i])\n",
        "    avg_model_score += get_score(score_dict[\"pbmt\"][i])\n",
        "    avg_model_score /= 4\n",
        "\n",
        "    if avg_transformer_score - avg_model_score >= threshold:\n",
        "      res_lst.append(i)\n",
        "  return res_lst\n",
        "    "
      ],
      "execution_count": null,
      "outputs": []
    },
    {
      "cell_type": "code",
      "metadata": {
        "colab": {
          "base_uri": "https://localhost:8080/"
        },
        "id": "2jESbaM-kj_E",
        "outputId": "854822a9-88e8-48b9-9ca9-7f7e9b0ac536"
      },
      "source": [
        "FC_lst = filter_by(FC_result_dict, 0.25)\n",
        "print(len(FC_lst))\n",
        "print(FC_lst)"
      ],
      "execution_count": null,
      "outputs": [
        {
          "output_type": "stream",
          "text": [
            "267\n",
            "[11, 18, 20, 27, 32, 36, 39, 42, 43, 44, 46, 55, 65, 81, 83, 87, 93, 94, 112, 118, 121, 124, 126, 128, 132, 137, 145, 149, 163, 166, 167, 170, 172, 178, 185, 186, 189, 190, 194, 198, 203, 209, 212, 216, 218, 219, 223, 231, 233, 241, 244, 257, 258, 259, 263, 264, 275, 276, 277, 278, 279, 280, 284, 286, 290, 291, 294, 296, 304, 306, 307, 309, 310, 329, 331, 333, 343, 350, 355, 363, 366, 367, 398, 400, 427, 430, 436, 437, 438, 440, 453, 456, 462, 472, 474, 486, 488, 489, 494, 500, 511, 515, 517, 518, 524, 526, 529, 533, 540, 543, 544, 549, 554, 557, 561, 577, 579, 581, 593, 601, 603, 610, 611, 614, 616, 617, 625, 628, 630, 633, 637, 639, 644, 646, 650, 653, 654, 655, 659, 660, 662, 678, 704, 705, 708, 711, 712, 717, 718, 720, 750, 765, 782, 799, 820, 821, 834, 842, 844, 846, 847, 852, 853, 855, 862, 864, 884, 886, 891, 892, 907, 910, 912, 923, 934, 939, 949, 958, 962, 963, 969, 971, 977, 981, 988, 991, 995, 1003, 1004, 1005, 1016, 1019, 1022, 1027, 1030, 1050, 1060, 1064, 1068, 1072, 1084, 1085, 1091, 1094, 1100, 1105, 1109, 1114, 1118, 1122, 1123, 1125, 1126, 1130, 1136, 1148, 1156, 1164, 1178, 1179, 1190, 1194, 1209, 1224, 1227, 1228, 1229, 1230, 1232, 1234, 1236, 1237, 1245, 1250, 1260, 1265, 1269, 1279, 1282, 1284, 1296, 1298, 1303, 1311, 1320, 1321, 1323, 1330, 1337, 1342, 1345, 1351, 1354, 1358, 1364, 1365, 1368, 1380, 1384, 1386, 1387, 1397, 1402, 1407, 1411, 1413, 1415]\n"
          ],
          "name": "stdout"
        }
      ]
    },
    {
      "cell_type": "code",
      "metadata": {
        "colab": {
          "base_uri": "https://localhost:8080/"
        },
        "id": "l45U-QjCpGBs",
        "outputId": "a706b9b4-abc2-44e3-8092-e363b37a7404"
      },
      "source": [
        "AC_lst = filter_by(AC_result_dict, 0.25)\n",
        "print(len(AC_lst))\n",
        "print(AC_lst)"
      ],
      "execution_count": null,
      "outputs": [
        {
          "output_type": "stream",
          "text": [
            "443\n",
            "[0, 1, 11, 13, 14, 18, 19, 20, 26, 27, 32, 37, 39, 42, 43, 44, 46, 55, 57, 61, 72, 83, 85, 87, 90, 92, 93, 107, 112, 114, 116, 118, 121, 123, 124, 126, 128, 131, 135, 137, 139, 142, 145, 146, 148, 149, 154, 157, 160, 162, 163, 166, 167, 168, 169, 170, 172, 178, 181, 182, 185, 189, 190, 191, 192, 194, 198, 199, 200, 203, 204, 206, 208, 209, 212, 216, 218, 219, 223, 224, 227, 231, 233, 239, 240, 241, 250, 255, 257, 258, 263, 264, 267, 268, 271, 273, 275, 277, 280, 282, 284, 286, 290, 291, 292, 294, 296, 304, 306, 307, 310, 319, 322, 331, 332, 333, 337, 341, 343, 350, 358, 359, 362, 363, 366, 367, 370, 371, 372, 376, 377, 378, 387, 400, 408, 411, 414, 420, 423, 427, 428, 430, 432, 435, 436, 437, 438, 440, 447, 448, 453, 458, 459, 460, 462, 467, 472, 474, 476, 479, 488, 494, 500, 504, 511, 515, 517, 518, 519, 526, 529, 540, 541, 543, 544, 546, 549, 554, 557, 561, 565, 570, 574, 579, 581, 588, 591, 593, 600, 604, 606, 609, 610, 611, 613, 614, 616, 617, 620, 621, 622, 623, 625, 626, 628, 629, 630, 633, 637, 639, 644, 646, 650, 653, 655, 659, 662, 671, 676, 678, 679, 696, 700, 704, 705, 711, 712, 714, 715, 717, 718, 719, 720, 723, 726, 729, 731, 740, 750, 759, 763, 765, 769, 774, 779, 782, 790, 792, 799, 807, 811, 819, 820, 821, 832, 834, 835, 840, 844, 846, 847, 852, 853, 855, 857, 858, 859, 862, 864, 869, 878, 882, 884, 888, 891, 892, 894, 899, 901, 907, 912, 914, 918, 920, 923, 929, 934, 937, 938, 939, 948, 949, 951, 957, 958, 962, 963, 969, 975, 977, 991, 995, 999, 1001, 1003, 1004, 1016, 1019, 1021, 1022, 1025, 1027, 1029, 1030, 1038, 1050, 1059, 1060, 1064, 1068, 1069, 1070, 1072, 1080, 1081, 1082, 1085, 1086, 1090, 1091, 1093, 1094, 1100, 1101, 1104, 1105, 1109, 1111, 1112, 1114, 1118, 1120, 1122, 1123, 1125, 1129, 1133, 1136, 1138, 1145, 1146, 1148, 1153, 1154, 1156, 1163, 1164, 1166, 1167, 1169, 1175, 1178, 1179, 1181, 1186, 1190, 1191, 1194, 1195, 1196, 1208, 1209, 1212, 1220, 1224, 1226, 1229, 1230, 1232, 1234, 1235, 1236, 1245, 1250, 1255, 1260, 1263, 1267, 1268, 1269, 1272, 1278, 1279, 1280, 1284, 1286, 1288, 1290, 1292, 1294, 1295, 1296, 1303, 1309, 1311, 1321, 1323, 1330, 1333, 1334, 1336, 1337, 1338, 1340, 1342, 1345, 1347, 1351, 1352, 1354, 1358, 1365, 1366, 1368, 1374, 1377, 1379, 1380, 1384, 1386, 1387, 1388, 1390, 1391, 1392, 1397, 1398, 1402, 1403, 1407, 1411, 1413, 1415]\n"
          ],
          "name": "stdout"
        }
      ]
    },
    {
      "cell_type": "code",
      "metadata": {
        "colab": {
          "base_uri": "https://localhost:8080/"
        },
        "id": "IxpYE3FnqqPo",
        "outputId": "37ebdf69-3c0c-405a-e930-0cd9749244d2"
      },
      "source": [
        "Grammar_lst = filter_by(Grammar_score_dict, 0.25)\n",
        "print(len(Grammar_lst))\n",
        "print(Grammar_lst)"
      ],
      "execution_count": null,
      "outputs": [
        {
          "output_type": "stream",
          "text": [
            "67\n",
            "[28, 43, 58, 64, 111, 121, 142, 156, 163, 228, 259, 290, 295, 305, 327, 367, 421, 424, 428, 438, 507, 527, 530, 551, 552, 559, 572, 578, 583, 609, 617, 686, 688, 702, 709, 753, 758, 762, 848, 873, 945, 964, 985, 991, 999, 1003, 1035, 1060, 1063, 1091, 1107, 1120, 1127, 1170, 1208, 1217, 1224, 1246, 1247, 1282, 1288, 1303, 1312, 1320, 1322, 1355, 1370]\n"
          ],
          "name": "stdout"
        }
      ]
    },
    {
      "cell_type": "code",
      "metadata": {
        "id": "lhUOqVjaqPYS"
      },
      "source": [
        "def intersection(lists):\n",
        "  ans_lst = lists[0]\n",
        "  for i in range(1,len(lists)):\n",
        "    ans_lst = list(set(lists[i]) & set(ans_lst))\n",
        "  return ans_lst"
      ],
      "execution_count": null,
      "outputs": []
    },
    {
      "cell_type": "code",
      "metadata": {
        "id": "cQMw7sEuqRUj"
      },
      "source": [
        "overlap_lst = intersection([FC_lst, AC_lst, Grammar_lst])"
      ],
      "execution_count": null,
      "outputs": []
    },
    {
      "cell_type": "code",
      "metadata": {
        "colab": {
          "base_uri": "https://localhost:8080/"
        },
        "id": "cTO7xfzmXx2D",
        "outputId": "65b04557-10ba-43e2-dcc9-b13d886ea220"
      },
      "source": [
        "print(overlap_lst)"
      ],
      "execution_count": null,
      "outputs": [
        {
          "output_type": "stream",
          "text": [
            "[290, 163, 1060, 1091, 1224, 617, 43, 1003, 367, 438, 1303, 121, 991]\n"
          ],
          "name": "stdout"
        }
      ]
    },
    {
      "cell_type": "code",
      "metadata": {
        "id": "bcbj5yVLt3J8"
      },
      "source": [
        "print_idx(991)"
      ],
      "execution_count": null,
      "outputs": []
    }
  ]
}