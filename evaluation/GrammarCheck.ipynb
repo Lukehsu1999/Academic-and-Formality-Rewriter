{
  "nbformat": 4,
  "nbformat_minor": 0,
  "metadata": {
    "colab": {
      "name": "GrammarCheck.ipynb",
      "provenance": [],
      "mount_file_id": "1ssUWIpqFVf57FMcgCuLR3NbWQVsM6mhN",
      "authorship_tag": "ABX9TyPPWR4mrnq5KTtoyvkbkAbs",
      "include_colab_link": true
    },
    "kernelspec": {
      "name": "python3",
      "display_name": "Python 3"
    },
    "language_info": {
      "name": "python"
    }
  },
  "cells": [
    {
      "cell_type": "markdown",
      "metadata": {
        "id": "view-in-github",
        "colab_type": "text"
      },
      "source": [
        "<a href=\"https://colab.research.google.com/github/Lukehsu1999/Academic-and-Formality-Rewriter/blob/main/evaluation/GrammarCheck.ipynb\" target=\"_parent\"><img src=\"https://colab.research.google.com/assets/colab-badge.svg\" alt=\"Open In Colab\"/></a>"
      ]
    },
    {
      "cell_type": "code",
      "metadata": {
        "id": "JFYizX1slOil"
      },
      "source": [
        "set_path = \"EM_test\"\n",
        "test_code = \"EM\"\n",
        "test_full_name = \"Entertainment_Music\"  #\"Entertainment_Music\" \"Family_Relationships\""
      ],
      "execution_count": null,
      "outputs": []
    },
    {
      "cell_type": "code",
      "metadata": {
        "id": "90CQrPz8dGd6"
      },
      "source": [
        "path_to_EMFRmodel_output = \"/content/drive/MyDrive/CityU/FYP/Model_Outputs/\"+set_path+\"/EMFR_model_3pochs_\"+test_code+\"_test\"\n",
        "EMFRmodel_output_file = open(path_to_EMFRmodel_output, \"r\")\n",
        "EMFRmodel_output_lines = EMFRmodel_output_file.readlines()\n",
        "\n",
        "path_to_EMmodel_output = \"/content/drive/MyDrive/CityU/FYP/Model_Outputs/\"+set_path+\"/EM_model_3pochs_\"+test_code+\"_test\"\n",
        "EMmodel_output_file = open(path_to_EMmodel_output, \"r\")\n",
        "EMmodel_output_lines = EMmodel_output_file.readlines()\n",
        "\n",
        "path_to_FRmodel_output = \"/content/drive/MyDrive/CityU/FYP/Model_Outputs/\"+set_path+\"/FR_model_3pochs_\"+test_code+\"_test\"\n",
        "FRmodel_output_file = open(path_to_FRmodel_output, \"r\")\n",
        "FRmodel_output_lines = FRmodel_output_file.readlines()\n",
        "\n",
        "path_to_nmtbaselinemodel_output = \"/content/drive/MyDrive/CityU/FYP/Model_Outputs/\"+set_path+\"/formal.nmt_baseline\"\n",
        "nmtbaselinemodel_output_file = open(path_to_nmtbaselinemodel_output, \"r\")\n",
        "nmtbaselinemodel_output_lines = nmtbaselinemodel_output_file.readlines()\n",
        "\n",
        "path_to_nmtcombinedmodel_output = \"/content/drive/MyDrive/CityU/FYP/Model_Outputs/\"+set_path+\"/formal.nmt_combined\"\n",
        "nmtcombinedmodel_output_file = open(path_to_nmtcombinedmodel_output, \"r\")\n",
        "nmtcombinedmodel_output_lines = nmtcombinedmodel_output_file.readlines()\n",
        "\n",
        "path_to_nmtcopymodel_output = \"/content/drive/MyDrive/CityU/FYP/Model_Outputs/\"+set_path+\"/formal.nmt_copy\"\n",
        "nmtcopymodel_output_file = open(path_to_nmtcopymodel_output, \"r\")\n",
        "nmtcopymodel_output_lines = nmtcopymodel_output_file.readlines()\n",
        "\n",
        "path_to_pbmtmodel_output = \"/content/drive/MyDrive/CityU/FYP/Model_Outputs/\"+set_path+\"/formal.pbmt\"\n",
        "pbmtmodel_output_file = open(path_to_pbmtmodel_output, \"r\")\n",
        "pbmtmodel_output_lines = pbmtmodel_output_file.readlines()\n",
        "\n",
        "path_to_rulebasedmodel_output = \"/content/drive/MyDrive/CityU/FYP/Model_Outputs/\"+set_path+\"/formal.rule_based\"\n",
        "rulebasedmodel_output_file = open(path_to_rulebasedmodel_output, \"r\")\n",
        "rulebasedmodel_output_lines = rulebasedmodel_output_file.readlines()"
      ],
      "execution_count": null,
      "outputs": []
    },
    {
      "cell_type": "code",
      "metadata": {
        "colab": {
          "base_uri": "https://localhost:8080/"
        },
        "id": "nkoeC4fImI3m",
        "outputId": "220e36be-3fb5-4d69-8bcf-7c5102ff93ea"
      },
      "source": [
        "path_to_references = [\"/content/drive/MyDrive/CityU/FYP/Model_Outputs/\"+set_path+\"/references/formal.ref0\",\n",
        "            \"/content/drive/MyDrive/CityU/FYP/Model_Outputs/\"+set_path+\"/references/formal.ref1\",\n",
        "            \"/content/drive/MyDrive/CityU/FYP/Model_Outputs/\"+set_path+\"/references/formal.ref2\",\n",
        "            \"/content/drive/MyDrive/CityU/FYP/Model_Outputs/\"+set_path+\"/references/formal.ref3\"]\n",
        "reference_lines = []\n",
        "for i in range(len(path_to_references)):\n",
        "  temp_ref_file = open(path_to_references[i], \"r\")\n",
        "  temp_ref_lines = temp_ref_file.readlines()\n",
        "  temp_lines = []\n",
        "  for line in temp_ref_lines:\n",
        "    temp_lines.append(line)\n",
        "  reference_lines.append(temp_lines)\n",
        "\n",
        "print(len(reference_lines))\n",
        "print(len(reference_lines[0]))"
      ],
      "execution_count": null,
      "outputs": [
        {
          "output_type": "stream",
          "text": [
            "4\n",
            "1416\n"
          ],
          "name": "stdout"
        }
      ]
    },
    {
      "cell_type": "code",
      "metadata": {
        "colab": {
          "base_uri": "https://localhost:8080/"
        },
        "id": "XlklaAG4paNP",
        "outputId": "9a0a29ae-ecab-40ce-f195-33e82ed7db8c"
      },
      "source": [
        "print(len(nmtbaselinemodel_output_lines))"
      ],
      "execution_count": null,
      "outputs": [
        {
          "output_type": "stream",
          "text": [
            "1416\n"
          ],
          "name": "stdout"
        }
      ]
    },
    {
      "cell_type": "code",
      "metadata": {
        "id": "foqhXmcMf-e1"
      },
      "source": [
        "all_set = {\n",
        "    \"EMFR\":EMFRmodel_output_lines,\n",
        "    \"EM\":EMmodel_output_lines,\n",
        "    \"FR\":FRmodel_output_lines,\n",
        "    \"nmtbaseline\":nmtbaselinemodel_output_lines,\n",
        "    \"nmtcombined\":nmtcombinedmodel_output_lines,\n",
        "    \"nmtcopy\":nmtcopymodel_output_lines,\n",
        "    \"pbmt\":pbmtmodel_output_lines,\n",
        "    \"rulebased\":rulebasedmodel_output_lines,\n",
        "    \"ref0\":reference_lines[0],\n",
        "    \"ref1\":reference_lines[1],\n",
        "    \"ref2\":reference_lines[2],\n",
        "    \"ref3\":reference_lines[3],\n",
        "}"
      ],
      "execution_count": null,
      "outputs": []
    },
    {
      "cell_type": "markdown",
      "metadata": {
        "id": "rZYmZhh6fw0g"
      },
      "source": [
        "Evaluate with Language Tool Python"
      ]
    },
    {
      "cell_type": "code",
      "metadata": {
        "colab": {
          "base_uri": "https://localhost:8080/"
        },
        "id": "P4L4tbQ5f1gZ",
        "outputId": "367bcbda-2682-4a85-9f3c-fd875ef37b31"
      },
      "source": [
        "!pip install language-tool-python"
      ],
      "execution_count": null,
      "outputs": [
        {
          "output_type": "stream",
          "text": [
            "Requirement already satisfied: language-tool-python in /usr/local/lib/python3.7/dist-packages (2.5.4)\n",
            "Requirement already satisfied: tqdm in /usr/local/lib/python3.7/dist-packages (from language-tool-python) (4.41.1)\n",
            "Requirement already satisfied: requests in /usr/local/lib/python3.7/dist-packages (from language-tool-python) (2.23.0)\n",
            "Requirement already satisfied: certifi>=2017.4.17 in /usr/local/lib/python3.7/dist-packages (from requests->language-tool-python) (2021.5.30)\n",
            "Requirement already satisfied: urllib3!=1.25.0,!=1.25.1,<1.26,>=1.21.1 in /usr/local/lib/python3.7/dist-packages (from requests->language-tool-python) (1.24.3)\n",
            "Requirement already satisfied: idna<3,>=2.5 in /usr/local/lib/python3.7/dist-packages (from requests->language-tool-python) (2.10)\n",
            "Requirement already satisfied: chardet<4,>=3.0.2 in /usr/local/lib/python3.7/dist-packages (from requests->language-tool-python) (3.0.4)\n"
          ],
          "name": "stdout"
        }
      ]
    },
    {
      "cell_type": "code",
      "metadata": {
        "id": "CZoT82UpgWwx"
      },
      "source": [
        "import language_tool_python\n",
        "tool = language_tool_python.LanguageTool('en-US')"
      ],
      "execution_count": null,
      "outputs": []
    },
    {
      "cell_type": "markdown",
      "metadata": {
        "id": "graqJIEk8NLu"
      },
      "source": [
        "use word_tokenize to calculate sentence length"
      ]
    },
    {
      "cell_type": "code",
      "metadata": {
        "colab": {
          "base_uri": "https://localhost:8080/"
        },
        "id": "s5TOIm9SglYJ",
        "outputId": "1250c463-d3e5-4c0e-fa63-212e91b7b696"
      },
      "source": [
        "import nltk\n",
        "nltk.download('punkt')\n",
        "from nltk.tokenize import word_tokenize\n",
        "# use word_tokenize to count how many words"
      ],
      "execution_count": null,
      "outputs": [
        {
          "output_type": "stream",
          "text": [
            "[nltk_data] Downloading package punkt to /root/nltk_data...\n",
            "[nltk_data]   Package punkt is already up-to-date!\n"
          ],
          "name": "stdout"
        }
      ]
    },
    {
      "cell_type": "code",
      "metadata": {
        "id": "UmeXvZHkhv5p"
      },
      "source": [
        "def get_language_tool_grammar_score(sentence):\n",
        "  sentence_tokens = word_tokenize(sentence)\n",
        "  word_count = len(sentence_tokens)\n",
        "  matches = tool.check(sentence)\n",
        "  error_cnt = len(matches)\n",
        "  #print(word_count)\n",
        "  #print(matches)\n",
        "  #print(error_cnt)\n",
        "  return (word_count-error_cnt)/word_count, error_cnt, str(matches)"
      ],
      "execution_count": null,
      "outputs": []
    },
    {
      "cell_type": "code",
      "metadata": {
        "colab": {
          "base_uri": "https://localhost:8080/"
        },
        "id": "f1f2RUw3W9uT",
        "outputId": "bf4f5fd3-63bc-4578-b400-ad1664663735"
      },
      "source": [
        "get_language_tool_grammar_score('i donnt thought that were an good idea.')"
      ],
      "execution_count": null,
      "outputs": [
        {
          "output_type": "execute_result",
          "data": {
            "text/plain": [
              "(0.6666666666666666,\n",
              " 3,\n",
              " \"[Match({'ruleId': 'UPPERCASE_SENTENCE_START', 'message': 'This sentence does not start with an uppercase letter.', 'replacements': ['I'], 'offsetInContext': 0, 'context': 'i donnt thought that were an good idea.', 'offset': 0, 'errorLength': 1, 'category': 'CASING', 'ruleIssueType': 'typographical', 'sentence': 'i donnt thought that were an good idea.'}), Match({'ruleId': 'MORFOLOGIK_RULE_EN_US', 'message': 'Possible spelling mistake found.', 'replacements': ['Donna', 'Donny', 'Donne', 'Donn', 'donné', 'donut'], 'offsetInContext': 2, 'context': 'i donnt thought that were an good idea.', 'offset': 2, 'errorLength': 5, 'category': 'TYPOS', 'ruleIssueType': 'misspelling', 'sentence': 'i donnt thought that were an good idea.'}), Match({'ruleId': 'EN_A_VS_AN', 'message': 'Use “a” instead of ‘an’ if the following word doesn’t start with a vowel sound, e.g. ‘a sentence’, ‘a university’.', 'replacements': ['a'], 'offsetInContext': 26, 'context': 'i donnt thought that were an good idea.', 'offset': 26, 'errorLength': 2, 'category': 'MISC', 'ruleIssueType': 'misspelling', 'sentence': 'i donnt thought that were an good idea.'})]\")"
            ]
          },
          "metadata": {
            "tags": []
          },
          "execution_count": 39
        }
      ]
    },
    {
      "cell_type": "code",
      "metadata": {
        "colab": {
          "base_uri": "https://localhost:8080/"
        },
        "id": "-7yDEeLaXJPt",
        "outputId": "045b650c-6f06-42da-f872-1d6034ef70c7"
      },
      "source": [
        "get_language_tool_grammar_score('That is a good idea.')"
      ],
      "execution_count": null,
      "outputs": [
        {
          "output_type": "execute_result",
          "data": {
            "text/plain": [
              "(1.0, 0, '[]')"
            ]
          },
          "metadata": {
            "tags": []
          },
          "execution_count": 40
        }
      ]
    },
    {
      "cell_type": "code",
      "metadata": {
        "id": "SgAOHnJqii11"
      },
      "source": [
        "def get_corpus_grammar_score(sentence_set):\n",
        "  total_score = 0\n",
        "  total_errors = 0\n",
        "  score_results = []\n",
        "  match_results = []\n",
        "  for sentence in sentence_set:\n",
        "    sentence_score, error_cnt, matches = get_language_tool_grammar_score(sentence) #get_grammar_score(sentence)\n",
        "    score_results.append(sentence_score)\n",
        "    match_results.append(matches)\n",
        "    total_score += sentence_score\n",
        "    total_errors += error_cnt\n",
        "  return total_score/len(sentence_set), score_results, total_errors, match_results"
      ],
      "execution_count": null,
      "outputs": []
    },
    {
      "cell_type": "code",
      "metadata": {
        "colab": {
          "base_uri": "https://localhost:8080/"
        },
        "id": "A4cVRM6jcRDn",
        "outputId": "4b14eaec-b11e-43ff-ebae-689590c03cb2"
      },
      "source": [
        "get_corpus_grammar_score(['lol i am happier'])"
      ],
      "execution_count": null,
      "outputs": [
        {
          "output_type": "execute_result",
          "data": {
            "text/plain": [
              "(0.5,\n",
              " [0.5],\n",
              " 2,\n",
              " [\"[Match({'ruleId': 'UPPERCASE_SENTENCE_START', 'message': 'This sentence does not start with an uppercase letter.', 'replacements': ['Lol'], 'offsetInContext': 0, 'context': 'lol i am happier', 'offset': 0, 'errorLength': 3, 'category': 'CASING', 'ruleIssueType': 'typographical', 'sentence': 'lol i am happier'}), Match({'ruleId': 'I_LOWERCASE', 'message': 'The personal pronoun “I” should be uppercase.', 'replacements': ['I'], 'offsetInContext': 4, 'context': 'lol i am happier', 'offset': 4, 'errorLength': 1, 'category': 'TYPOS', 'ruleIssueType': 'misspelling', 'sentence': 'lol i am happier'})]\"])"
            ]
          },
          "metadata": {
            "tags": []
          },
          "execution_count": 42
        }
      ]
    },
    {
      "cell_type": "code",
      "metadata": {
        "id": "loarWSmtkC2_"
      },
      "source": [
        "all_result_score = {} # modelname -> [0.5, 0.4,...] array of score\n",
        "all_result_matches = {} # modelname -> [[arr of Matches], [ms], []] array of array of matches"
      ],
      "execution_count": null,
      "outputs": []
    },
    {
      "cell_type": "code",
      "metadata": {
        "id": "PBHmvcSRjcRS"
      },
      "source": [
        "for key in all_set.keys():\n",
        "  print(\"Set: \"+str(key))\n",
        "  this_set = all_set[key]\n",
        "  avg_score, this_result, error_cnt, this_matches = get_corpus_grammar_score(this_set)\n",
        "  print(\"Avg score: \"+str(avg_score))\n",
        "  print(\"Total error cnt: \"+str(error_cnt))\n",
        "  all_result_score[key] = this_result\n",
        "  all_result_matches[key] = this_matches"
      ],
      "execution_count": null,
      "outputs": []
    },
    {
      "cell_type": "code",
      "metadata": {
        "colab": {
          "base_uri": "https://localhost:8080/"
        },
        "id": "BWzbRMBda_wd",
        "outputId": "9a922093-80c1-4036-a154-874f59bf3ee5"
      },
      "source": [
        "print(all_result_matches.keys())"
      ],
      "execution_count": null,
      "outputs": [
        {
          "output_type": "stream",
          "text": [
            "dict_keys(['EMFR', 'EM', 'FR', 'nmtbaseline', 'nmtcombined', 'nmtcopy', 'pbmt', 'rulebased', 'ref0', 'ref1', 'ref2', 'ref3'])\n"
          ],
          "name": "stdout"
        }
      ]
    },
    {
      "cell_type": "code",
      "metadata": {
        "colab": {
          "base_uri": "https://localhost:8080/"
        },
        "id": "cdgQRouNbFcC",
        "outputId": "825d0af3-b427-4cfc-f533-fcc055ae6171"
      },
      "source": [
        "print(len(all_result_matches['rulebased']))"
      ],
      "execution_count": null,
      "outputs": [
        {
          "output_type": "stream",
          "text": [
            "1416\n"
          ],
          "name": "stdout"
        }
      ]
    },
    {
      "cell_type": "code",
      "metadata": {
        "colab": {
          "base_uri": "https://localhost:8080/"
        },
        "id": "ztt9QkqMbLFr",
        "outputId": "d81e4bed-66a1-4d31-e382-0c3629415488"
      },
      "source": [
        "print(all_result_matches['rulebased'][0:15])"
      ],
      "execution_count": null,
      "outputs": [
        {
          "output_type": "stream",
          "text": [
            "[\"[Match({'ruleId': 'COMMA_PARENTHESIS_WHITESPACE', 'message': 'Don’t put a space before the full stop.', 'replacements': ['.'], 'offsetInContext': 26, 'context': 'Is Any Baby Really a Freak . ', 'offset': 26, 'errorLength': 2, 'category': 'TYPOGRAPHY', 'ruleIssueType': 'whitespace', 'sentence': 'Is Any Baby Really a Freak .'})]\", \"[Match({'ruleId': 'MORFOLOGIK_RULE_EN_US', 'message': 'Possible spelling mistake found.', 'replacements': ['Colorado', 'color ado', 'colored', 'Coronado', 'colorant', 'Coloradoan', 'coloreds', 'Coloradan'], 'offsetInContext': 6, 'context': 'Aspen colorado has he best music festivals , you sit a...', 'offset': 6, 'errorLength': 8, 'category': 'TYPOS', 'ruleIssueType': 'misspelling', 'sentence': 'Aspen colorado has he best music festivals , you sit all over the moutians it is on and just hang out .'}), Match({'ruleId': 'COMMA_PARENTHESIS_WHITESPACE', 'message': 'Put a space after the comma, but not before the comma.', 'replacements': [','], 'offsetInContext': 43, 'context': '...pen colorado has he best music festivals , you sit all over the moutians it is on ...', 'offset': 42, 'errorLength': 2, 'category': 'TYPOGRAPHY', 'ruleIssueType': 'whitespace', 'sentence': 'Aspen colorado has he best music festivals , you sit all over the moutians it is on and just hang out .'}), Match({'ruleId': 'MORFOLOGIK_RULE_EN_US', 'message': 'Possible spelling mistake found.', 'replacements': ['mountains', 'motions', 'Martians', 'martians'], 'offsetInContext': 43, 'context': '... music festivals , you sit all over the moutians it is on and just hang out . ', 'offset': 66, 'errorLength': 8, 'category': 'TYPOS', 'ruleIssueType': 'misspelling', 'sentence': 'Aspen colorado has he best music festivals , you sit all over the moutians it is on and just hang out .'}), Match({'ruleId': 'COMMA_PARENTHESIS_WHITESPACE', 'message': 'Don’t put a space before the full stop.', 'replacements': ['.'], 'offsetInContext': 43, 'context': '... the moutians it is on and just hang out . ', 'offset': 101, 'errorLength': 2, 'category': 'TYPOGRAPHY', 'ruleIssueType': 'whitespace', 'sentence': 'Aspen colorado has he best music festivals , you sit all over the moutians it is on and just hang out .'})]\", \"[Match({'ruleId': 'MORFOLOGIK_RULE_EN_US', 'message': 'Possible spelling mistake found.', 'replacements': ['one bay', 'on eBay', 'on bay', 'on EAY', 'on EBA', 'on e bay', 'on by', 'on day', 'on may', 'on away', 'on play', 'on way', 'on era', 'on pay', 'on bad', 'on bar', 'on beat', 'on boy', 'on easy', 'on lay', 'on okay', 'on say', 'on stay', 'on baby', 'on ban', 'on beam', 'on bear', 'on buy', 'on delay', 'on eat', 'on ray', 'on Jay', 'on Ray', 'on bag', 'on bat', 'on decay', 'on ear', 'on essay', 'on exam', 'on gray', 'on relay', 'on Clay', 'on Gray', 'on bays', 'on beak', 'on clay', 'on eras', 'on hay', 'on obey', 'on pray', 'on CBA', 'on ESA', 'on Evan', 'on Hay', 'on Kay', 'on PBA', 'on bead', 'on bean', 'on envy', 'on repay', 'on sway', 'on tray', 'on Abby', 'on Bray', 'on EEA', 'on ETA', 'on Eddy', 'on Fay', 'on GBA', 'on ebony', 'on edgy', 'on fray', 'on obeys', 'on quay', 'on slay', 'on Cray', 'on DBA', 'on EAM', 'on EFA', 'on EGA', 'on Ebony', 'on Elam', 'on Elba', 'on SBA', 'on beau', 'on eddy', 'on eta', 'on kebab', 'on nay', 'on Debby', 'on Eben', 'on Ebro', 'on Esau', 'on LBA', 'on Reba', 'on TBA', 'on VBA', 'on ably', 'on belay', 'on bevy', 'on jay', 'on Eloy', 'on bah', 'on beady', 'on dray', 'on ebbs', 'on fay', 'on spay', 'on Edam', 'on baa', 'on bray', 'on debar', 'on elan', 'on shay', 'on cray', 'on flay', 'on Eva', 'on MBA', 'on NBA', 'on egad', 'on espy', 'on etas', 'on gay', 'on AAY', 'on ABA', 'on BA', 'on BAA', 'on BAE', 'on BAF', 'on BAH', 'on BAM', 'on BAP', 'on BAS', 'on BAU', 'on BAV', 'on BAW', 'on BAX', 'on BAZ', 'on BBA', 'on BBY', 'on BCY', 'on BDY', 'on BGY', 'on BHY', 'on BKY', 'on BLY', 'on BNY', 'on BPY', 'on BUY', 'on BVY', 'on BWY', 'on Ba', 'on CAY', 'on Day', 'on EAA', 'on EAC', 'on EAD', 'on EAE', 'on EAH', 'on EAI', 'on EAK', 'on EAL', 'on EAN', 'on EAO', 'on EAP', 'on EAS', 'on EAT', 'on EAU', 'on EAV', 'on EAX', 'on EBC', 'on EBE', 'on EBEN', 'on EBF', 'on EBI', 'on EBIT', 'on EBL', 'on EBP', 'on EBR', 'on EBS', 'on EBU', 'on EBX', 'on ECA', 'on ECAC', 'on ECAM', 'on EDA', 'on EIA', 'on EIAJ', 'on ELA', 'on EMA', 'on EMAC', 'on ENAC', 'on ENAP', 'on EPA', 'on ERA', 'on ERAP', 'on ERBA', 'on ESAA', 'on ESAD', 'on ESBAB', 'on ETAM', 'on ETAS', 'on EUA', 'on EZY', 'on Elway', 'on Emmy', 'on Gay', 'on HBA', 'on IBA', 'on IBAN', 'on KBA', 'on LBY', 'on May', 'on RAY', 'on RBA', 'on SAY', 'on WBA', 'on YBA', 'on bap', 'on bey', 'on cay', 'on ea', 'on ebb', 'on ency', 'on mkay', 'on ABAP', 'on Ajay', 'on BAC', 'on Baya', 'on DeKay', 'on EFAs', 'on ELAC', 'on ESY', 'on ETAs', 'on EY', 'on Etsy', 'on FBA', 'on Gaby', 'on Olay', 'on UBA', 'on bam', 'on rebar', 'on rebuy', 'on yay', 'on élan'], 'offsetInContext': 28, 'context': 'You can get almost anything on ebay ! ', 'offset': 28, 'errorLength': 7, 'category': 'TYPOS', 'ruleIssueType': 'misspelling', 'sentence': 'You can get almost anything on ebay !'})]\", \"[Match({'ruleId': 'COMMA_PARENTHESIS_WHITESPACE', 'message': 'Don’t put a space before the full stop.', 'replacements': ['.'], 'offsetInContext': 28, 'context': 'Everybody is Dying to get in . ', 'offset': 28, 'errorLength': 2, 'category': 'TYPOGRAPHY', 'ruleIssueType': 'whitespace', 'sentence': 'Everybody is Dying to get in .'})]\", \"[Match({'ruleId': 'LC_AFTER_PERIOD', 'message': 'If a new sentence starts here, add a space and start with an uppercase letter.', 'replacements': [' Those', ' those'], 'offsetInContext': 43, 'context': '...ots like 50 cent and his whole Gay unit.those kinds of people give hip-hop a bad name...', 'offset': 47, 'errorLength': 5, 'category': 'CASING', 'ruleIssueType': 'uncategorized', 'sentence': 'Not idiots like 50 cent and his whole Gay unit.those kinds of people give hip-hop a bad name .'}), Match({'ruleId': 'COMMA_PARENTHESIS_WHITESPACE', 'message': 'Don’t put a space before the full stop.', 'replacements': ['.'], 'offsetInContext': 43, 'context': '... kinds of people give hip-hop a bad name . ', 'offset': 92, 'errorLength': 2, 'category': 'TYPOGRAPHY', 'ruleIssueType': 'whitespace', 'sentence': 'Not idiots like 50 cent and his whole Gay unit.those kinds of people give hip-hop a bad name .'})]\", \"[Match({'ruleId': 'COMMA_PARENTHESIS_WHITESPACE', 'message': 'Don’t put a space before the full stop.', 'replacements': ['.'], 'offsetInContext': 38, 'context': 'Different from what I have seen though . ', 'offset': 38, 'errorLength': 2, 'category': 'TYPOGRAPHY', 'ruleIssueType': 'whitespace', 'sentence': 'Different from what I have seen though .'})]\", \"[Match({'ruleId': 'MORFOLOGIK_RULE_EN_US', 'message': 'Possible spelling mistake found.', 'replacements': ['TV', 'to', 'MTV', 'CTV', 'TT', 'UV', 'ATV', 'CV', 'MV', 'PV', 'ta', 'TVs', 'PTV', 'av', 'ts', 'ITV', 'TD', 'AV', 'Av', 'BTV', 'DTV', 'ETV', 'FTV', 'GV', 'HTV', 'IV', 'JV', 'KV', 'NTV', 'NV', 'RTV', 'RV', 'STV', 'T', 'TA', 'TB', 'TC', 'TCV', 'TEV', 'TF', 'TG', 'TGV', 'TH', 'TI', 'TIV', 'TJ', 'TK', 'TL', 'TLV', 'TM', 'TMV', 'TN', 'TO', 'TP', 'TPV', 'TR', 'TS', 'TSV', 'TU', 'TUV', 'TV7', 'TV8', 'TVA', 'TVH', 'TVM', 'TVO', 'TVP', 'TVQ', 'TVS', 'TVU', 'TW', 'TWV', 'TX', 'TY', 'TZ', 'Ta', 'Tb', 'Tc', 'Te', 'Th', 'Ti', 'Tl', 'Tm', 'Tu', 'Ty', 'UTV', 'V', 'WV', 'YTV', 'eV', 'iv', 't', 'tb', 'ti', 'tn', 'tr', 'v', 'xv', 'BV', 'DV', 'EV', 'LTV', 'LV', 'SV', 'TQ'], 'offsetInContext': 16, 'context': 'I want to be on tv ! ', 'offset': 16, 'errorLength': 2, 'category': 'TYPOS', 'ruleIssueType': 'misspelling', 'sentence': 'I want to be on tv !'})]\", \"[Match({'ruleId': 'COMMA_PARENTHESIS_WHITESPACE', 'message': 'Don’t put a space before the full stop.', 'replacements': ['.'], 'offsetInContext': 43, 'context': '...o not let anyone decide the fate but you . ', 'offset': 41, 'errorLength': 2, 'category': 'TYPOGRAPHY', 'ruleIssueType': 'whitespace', 'sentence': 'Do not let anyone decide the fate but you .'})]\", \"[Match({'ruleId': 'COMMA_PARENTHESIS_WHITESPACE', 'message': 'Don’t put a space before the full stop.', 'replacements': ['.'], 'offsetInContext': 43, 'context': '...is just riding coattails with that movie . ', 'offset': 43, 'errorLength': 2, 'category': 'TYPOGRAPHY', 'ruleIssueType': 'whitespace', 'sentence': '50 is just riding coattails with that movie .'})]\", \"[Match({'ruleId': 'MORFOLOGIK_RULE_EN_US', 'message': 'Possible spelling mistake found.', 'replacements': ['Klein', 'Klan', 'plan', 'clan', 'Alan', 'Khan', 'khan', 'koan', 'flan', 'elan', 'Kan', 'Kwan', 'LAN', 'VLAN', 'kl an', 'WLAN', 'élan'], 'offsetInContext': 10, 'context': 'The blind klan guy is hilarious ! ', 'offset': 10, 'errorLength': 4, 'category': 'TYPOS', 'ruleIssueType': 'misspelling', 'sentence': 'The blind klan guy is hilarious !'})]\", \"[Match({'ruleId': 'COMMA_PARENTHESIS_WHITESPACE', 'message': 'Don’t put a space before the full stop.', 'replacements': ['.'], 'offsetInContext': 43, 'context': '...are great albums to listen to Old School . ', 'offset': 82, 'errorLength': 2, 'category': 'TYPOGRAPHY', 'ruleIssueType': 'whitespace', 'sentence': 'Lauren Hill and Mary j Bilge the 411 both are great albums to listen to Old School .'})]\", '[]', \"[Match({'ruleId': 'PRP_VB', 'message': 'Do not use a noun immediately after the pronoun ‘I’. Use a verb or an adverb, or possibly some other part of speech.', 'replacements': [], 'offsetInContext': 0, 'context': 'I betta go and ask another stupid question lol ...', 'offset': 0, 'errorLength': 7, 'category': 'GRAMMAR', 'ruleIssueType': 'grammar', 'sentence': 'I betta go and ask another stupid question lol .'}), Match({'ruleId': 'COMMA_PARENTHESIS_WHITESPACE', 'message': 'Don’t put a space before the full stop.', 'replacements': ['.'], 'offsetInContext': 43, 'context': '...a go and ask another stupid question lol . ', 'offset': 46, 'errorLength': 2, 'category': 'TYPOGRAPHY', 'ruleIssueType': 'whitespace', 'sentence': 'I betta go and ask another stupid question lol .'})]\", \"[Match({'ruleId': 'SENTENCE_FRAGMENT', 'message': 'This sentence seems to be incomplete or is missing punctuation.', 'replacements': [], 'offsetInContext': 0, 'context': 'As a guy that does not generally like roma...', 'offset': 0, 'errorLength': 2, 'category': 'GRAMMAR', 'ruleIssueType': 'grammar', 'sentence': 'As a guy that does not generally like romantic movies this was really nice .'}), Match({'ruleId': 'COMMA_PARENTHESIS_WHITESPACE', 'message': 'Don’t put a space before the full stop.', 'replacements': ['.'], 'offsetInContext': 43, 'context': '...ike romantic movies this was really nice . ', 'offset': 74, 'errorLength': 2, 'category': 'TYPOGRAPHY', 'ruleIssueType': 'whitespace', 'sentence': 'As a guy that does not generally like romantic movies this was really nice .'})]\", \"[Match({'ruleId': 'MORFOLOGIK_RULE_EN_US', 'message': 'Possible spelling mistake found.', 'replacements': ['capos'], 'offsetInContext': 27, 'context': 'I can still see my brother &apos;s 45 in my mind &apos;s eye . ', 'offset': 27, 'errorLength': 5, 'category': 'TYPOS', 'ruleIssueType': 'misspelling', 'sentence': 'I can still see my brother &apos;s 45 in my mind &apos;s eye .'}), Match({'ruleId': 'MORFOLOGIK_RULE_EN_US', 'message': 'Possible spelling mistake found.', 'replacements': ['capos'], 'offsetInContext': 43, 'context': '...ll see my brother &apos;s 45 in my mind &apos;s eye . ', 'offset': 49, 'errorLength': 5, 'category': 'TYPOS', 'ruleIssueType': 'misspelling', 'sentence': 'I can still see my brother &apos;s 45 in my mind &apos;s eye .'}), Match({'ruleId': 'COMMA_PARENTHESIS_WHITESPACE', 'message': 'Don’t put a space before the full stop.', 'replacements': ['.'], 'offsetInContext': 43, 'context': '...rother &apos;s 45 in my mind &apos;s eye . ', 'offset': 60, 'errorLength': 2, 'category': 'TYPOGRAPHY', 'ruleIssueType': 'whitespace', 'sentence': 'I can still see my brother &apos;s 45 in my mind &apos;s eye .'})]\"]\n"
          ],
          "name": "stdout"
        }
      ]
    },
    {
      "cell_type": "code",
      "metadata": {
        "id": "hvQBV7DvZU6x"
      },
      "source": [
        "import json\n",
        "\n",
        "# json save\n",
        "with open('/content/drive/MyDrive/CityU/FYP/Evaluation/Language_Tool_Python_Results/'+test_code+'_Grammar_Score_dict.json', 'w')as fp:\n",
        "  json.dump(all_result_score, fp)\n",
        "\n",
        "with open('/content/drive/MyDrive/CityU/FYP/Evaluation/Language_Tool_Python_Results/'+test_code+'_Grammar_Match_dict.json', 'w')as fp2:\n",
        "  json.dump(all_result_matches, fp2)"
      ],
      "execution_count": null,
      "outputs": []
    }
  ]
}