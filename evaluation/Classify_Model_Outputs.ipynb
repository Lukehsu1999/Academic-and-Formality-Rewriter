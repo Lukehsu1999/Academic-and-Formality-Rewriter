{
  "nbformat": 4,
  "nbformat_minor": 0,
  "metadata": {
    "colab": {
      "name": "Classify Model Outputs.ipynb",
      "provenance": [],
      "mount_file_id": "1p9O9_KjHkokpGMsAIeCx48V614PpRrvv",
      "authorship_tag": "ABX9TyNZjFJx7bbSBr6OzxGnoJcu",
      "include_colab_link": true
    },
    "kernelspec": {
      "name": "python3",
      "display_name": "Python 3"
    },
    "language_info": {
      "name": "python"
    }
  },
  "cells": [
    {
      "cell_type": "markdown",
      "metadata": {
        "id": "view-in-github",
        "colab_type": "text"
      },
      "source": [
        "<a href=\"https://colab.research.google.com/github/Lukehsu1999/Academic-and-Formality-Rewriter/blob/main/evaluation/Classify_Model_Outputs.ipynb\" target=\"_parent\"><img src=\"https://colab.research.google.com/assets/colab-badge.svg\" alt=\"Open In Colab\"/></a>"
      ]
    },
    {
      "cell_type": "markdown",
      "metadata": {
        "id": "QZ-2VMDPlmy3"
      },
      "source": [
        "# Installation"
      ]
    },
    {
      "cell_type": "code",
      "metadata": {
        "id": "bxSPWjq985f5"
      },
      "source": [
        "!pip install -q transformers\n",
        "\n",
        "import tensorflow as tf\n",
        "from tensorflow import keras\n",
        "from transformers import TFBertForSequenceClassification\n",
        "from transformers import BertTokenizer"
      ],
      "execution_count": null,
      "outputs": []
    },
    {
      "cell_type": "code",
      "metadata": {
        "id": "q8J8PpbE95DV"
      },
      "source": [
        "tokenizer=BertTokenizer.from_pretrained('bert-base-cased')"
      ],
      "execution_count": null,
      "outputs": []
    },
    {
      "cell_type": "markdown",
      "metadata": {
        "id": "nkYgAcgSlrVF"
      },
      "source": [
        "# Settings"
      ]
    },
    {
      "cell_type": "code",
      "metadata": {
        "id": "STY-kpb8gGNB"
      },
      "source": [
        "task = \"Formal\" # \"Formal\" \"Academic\"\n",
        "set_path = \"EM_test\"\n",
        "test_code = \"EM\"\n",
        "test_full_name = \"Entertainment_Music\"  #\"Entertainment_Music\" \"Family_Relationships\"\n",
        "path_to_save_dict = \"/content/drive/MyDrive/CityU/FYP/Evaluation/Classification_Results/\"+task+\"_Classification/\"+test_code+\"_results.json\""
      ],
      "execution_count": null,
      "outputs": []
    },
    {
      "cell_type": "markdown",
      "metadata": {
        "id": "pfVeLm6w_JuA"
      },
      "source": [
        "Path to classifiers: <br>\n",
        "Formality Classifier: <br>\n",
        "/content/drive/MyDrive/CityU/FYP/Models/Formality_Classifier/Epoch2Jun15\n",
        "<br>\n",
        "<br>\n",
        "Academic Classifier: <br>\n",
        "/content/drive/MyDrive/CityU/FYP/Models/Academic_Classifier/AcademicEpoch2June14"
      ]
    },
    {
      "cell_type": "code",
      "metadata": {
        "id": "58eqo-AlAPPw"
      },
      "source": [
        "path_to_formality_classifier = \"/content/drive/MyDrive/CityU/FYP/Models/Formality_Classifier/Epoch2Jun15\"\n",
        "path_to_academic_classifier = \"/content/drive/MyDrive/CityU/FYP/Models/Academic_Classifier/AcademicEpoch2June14\""
      ],
      "execution_count": null,
      "outputs": []
    },
    {
      "cell_type": "code",
      "metadata": {
        "colab": {
          "base_uri": "https://localhost:8080/"
        },
        "id": "e_v8T8Vi-GvF",
        "outputId": "c6076910-6611-4df8-92b8-6448abe16adb"
      },
      "source": [
        "if task == \"Academic\":\n",
        "  print(\"Academic Classifier\")\n",
        "  path_to_model_weight= path_to_academic_classifier\n",
        "else:\n",
        "  print(\"Formality Classifier\")\n",
        "  path_to_model_weight= path_to_formality_classifier\n",
        "\n",
        "\n",
        "demo_model=TFBertForSequenceClassification.from_pretrained('bert-base-cased')\n",
        "demo_model.load_weights(path_to_model_weight)"
      ],
      "execution_count": null,
      "outputs": [
        {
          "output_type": "stream",
          "text": [
            "Formality Classifier\n"
          ],
          "name": "stdout"
        },
        {
          "output_type": "stream",
          "text": [
            "All model checkpoint layers were used when initializing TFBertForSequenceClassification.\n",
            "\n",
            "Some layers of TFBertForSequenceClassification were not initialized from the model checkpoint at bert-base-cased and are newly initialized: ['classifier']\n",
            "You should probably TRAIN this model on a down-stream task to be able to use it for predictions and inference.\n"
          ],
          "name": "stderr"
        },
        {
          "output_type": "execute_result",
          "data": {
            "text/plain": [
              "<tensorflow.python.training.tracking.util.CheckpointLoadStatus at 0x7f2d48a48f10>"
            ]
          },
          "metadata": {
            "tags": []
          },
          "execution_count": 47
        }
      ]
    },
    {
      "cell_type": "code",
      "metadata": {
        "id": "Vz4Phoiu99o4"
      },
      "source": [
        "def getPrediction(sentence,thismodel):\n",
        "  inputs=tokenizer(sentence,return_tensors=\"tf\")\n",
        "  outputs=thismodel(inputs,return_dict=True)\n",
        "  #print(outputs)\n",
        "  #print(outputs.loss)\n",
        "  #print(outputs.logits)\n",
        "  logits=outputs.logits\n",
        "  probs = tf.nn.softmax(logits)\n",
        "  # print(probs)\n",
        "  prediction = tf.math.argmax(probs, axis=1)\n",
        "  # print(prediction)\n",
        "  #print(f\"probs {probs}\")\n",
        "  if prediction[0]==1:\n",
        "    #print(\"Formal\")\n",
        "    return 1, str(probs)\n",
        "  else:\n",
        "    #print(\"Informal\")\n",
        "    return 0, str(probs)"
      ],
      "execution_count": null,
      "outputs": []
    },
    {
      "cell_type": "code",
      "metadata": {
        "id": "9zQf6VfY-Xgw"
      },
      "source": [
        "def get_formal_count(path_to_model_output):\n",
        "  file = open(path_to_model_output, \"r\")\n",
        "  lines = file.readlines()\n",
        "  total_line_cnt = len(lines)\n",
        "  print(\"Total lines: \"+str(total_line_cnt))\n",
        "  formal_cnt = 0\n",
        "  result_lst = []\n",
        "  for line in lines:\n",
        "    res, certainty = getPrediction(line, demo_model)\n",
        "    formal_cnt += res\n",
        "    result_lst.append(certainty)\n",
        "  print(\"formal lines: \"+str(formal_cnt))\n",
        "  print(\"formal percentage: \"+str(formal_cnt/total_line_cnt))\n",
        "  return result_lst"
      ],
      "execution_count": null,
      "outputs": []
    },
    {
      "cell_type": "markdown",
      "metadata": {
        "id": "T5x3jDvAgDAk"
      },
      "source": [
        "Choose Corpus Here"
      ]
    },
    {
      "cell_type": "code",
      "metadata": {
        "id": "UHGyYsg1gpGr"
      },
      "source": [
        "model_output_path_dict = {\n",
        "    \"EMFR\":\"/content/drive/MyDrive/CityU/FYP/Model_Outputs/\"+set_path+\"/EMFR_model_3pochs_\"+test_code+\"_test\",\n",
        "    \"EM\":\"/content/drive/MyDrive/CityU/FYP/Model_Outputs/\"+set_path+\"/EM_model_3pochs_\"+test_code+\"_test\",\n",
        "    \"FR\":\"/content/drive/MyDrive/CityU/FYP/Model_Outputs/\"+set_path+\"/FR_model_3pochs_\"+test_code+\"_test\",\n",
        "    \"nmtbaseline\":\"/content/drive/MyDrive/CityU/FYP/Model_Outputs/\"+set_path+\"/formal.nmt_baseline\",\n",
        "    \"nmtcombined\":\"/content/drive/MyDrive/CityU/FYP/Model_Outputs/\"+set_path+\"/formal.nmt_combined\",\n",
        "    \"nmtcopy\":\"/content/drive/MyDrive/CityU/FYP/Model_Outputs/\"+set_path+\"/formal.nmt_copy\",\n",
        "    \"pbmt\":\"/content/drive/MyDrive/CityU/FYP/Model_Outputs/\"+set_path+\"/formal.pbmt\",\n",
        "    \"rulebased\":\"/content/drive/MyDrive/CityU/FYP/Model_Outputs/\"+set_path+\"/formal.rule_based\",\n",
        "    \"ref0\":\"/content/drive/MyDrive/CityU/FYP/Model_Outputs/\"+test_code+\"_test/references/formal.ref0\",\n",
        "    \"ref1\":\"/content/drive/MyDrive/CityU/FYP/Model_Outputs/\"+test_code+\"_test/references/formal.ref1\",\n",
        "    \"ref2\":\"/content/drive/MyDrive/CityU/FYP/Model_Outputs/\"+test_code+\"_test/references/formal.ref2\",\n",
        "    \"ref3\":\"/content/drive/MyDrive/CityU/FYP/Model_Outputs/\"+test_code+\"_test/references/formal.ref3\",\n",
        "}"
      ],
      "execution_count": null,
      "outputs": []
    },
    {
      "cell_type": "code",
      "metadata": {
        "id": "fTFuksegnljO"
      },
      "source": [
        "result_dict = {}"
      ],
      "execution_count": null,
      "outputs": []
    },
    {
      "cell_type": "code",
      "metadata": {
        "id": "kdJ1KvF0hqvj"
      },
      "source": [
        "for k in model_output_path_dict.keys():\n",
        "  print(k)\n",
        "  path = model_output_path_dict[k]\n",
        "  res_lst = get_formal_count(path)\n",
        "  result_dict[k] = res_lst"
      ],
      "execution_count": null,
      "outputs": []
    },
    {
      "cell_type": "markdown",
      "metadata": {
        "id": "IEGztrMkm2Iw"
      },
      "source": [
        "Save"
      ]
    },
    {
      "cell_type": "code",
      "metadata": {
        "id": "FbuuGhmWm3Rm"
      },
      "source": [
        "import json\n",
        "\n",
        "# json save\n",
        "with open(path_to_save_dict, 'w')as fp:\n",
        "  json.dump(result_dict, fp)"
      ],
      "execution_count": null,
      "outputs": []
    }
  ]
}